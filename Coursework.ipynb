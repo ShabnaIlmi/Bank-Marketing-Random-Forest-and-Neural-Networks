{
  "nbformat": 4,
  "nbformat_minor": 0,
  "metadata": {
    "colab": {
      "provenance": [],
      "mount_file_id": "18r5tUPzhDk3aApdBOiqPW5K8yVOXw9cq",
      "authorship_tag": "ABX9TyP8k7GMPdn/6/rkM1VjJyZj",
      "include_colab_link": true
    },
    "kernelspec": {
      "name": "python3",
      "display_name": "Python 3"
    },
    "language_info": {
      "name": "python"
    }
  },
  "cells": [
    {
      "cell_type": "markdown",
      "metadata": {
        "id": "view-in-github",
        "colab_type": "text"
      },
      "source": [
        "<a href=\"https://colab.research.google.com/github/ShabnaIlmi/Bank-Marketing-Random-Forest-and-Neural-Networks/blob/main/Coursework.ipynb\" target=\"_parent\"><img src=\"https://colab.research.google.com/assets/colab-badge.svg\" alt=\"Open In Colab\"/></a>"
      ]
    },
    {
      "cell_type": "code",
      "execution_count": 23,
      "metadata": {
        "id": "KFUg3QRfvxxn"
      },
      "outputs": [],
      "source": [
        "# Importing necessary libraries\n",
        "import pandas as pd\n",
        "import numpy as np\n",
        "import matplotlib.pyplot as plt\n",
        "import seaborn as sns\n",
        "from sklearn.model_selection import train_test_split\n",
        "from sklearn.preprocessing import StandardScaler, LabelEncoder\n",
        "from sklearn.impute import SimpleImputer\n"
      ]
    },
    {
      "cell_type": "code",
      "source": [
        "# Loading the dataset with the proper delimiter (semicolon)\n",
        "data_full_additional = pd.read_csv('/content/drive/MyDrive/Bank-Marketing-Random-Forest-and-Neural-Networks/bank-additional-full.csv', delimiter=';')\n"
      ],
      "metadata": {
        "id": "eLitqNFyyyiJ"
      },
      "execution_count": 3,
      "outputs": []
    },
    {
      "cell_type": "code",
      "source": [
        "# Displaying the data contained within the dataset\n",
        "data_full_additional.head()"
      ],
      "metadata": {
        "colab": {
          "base_uri": "https://localhost:8080/",
          "height": 255
        },
        "id": "Db0PT57M0DdO",
        "outputId": "7113e742-644e-4a40-9d77-e68da3ecb7d9"
      },
      "execution_count": 4,
      "outputs": [
        {
          "output_type": "execute_result",
          "data": {
            "text/plain": [
              "   age        job  marital    education  default housing loan    contact  \\\n",
              "0   56  housemaid  married     basic.4y       no      no   no  telephone   \n",
              "1   57   services  married  high.school  unknown      no   no  telephone   \n",
              "2   37   services  married  high.school       no     yes   no  telephone   \n",
              "3   40     admin.  married     basic.6y       no      no   no  telephone   \n",
              "4   56   services  married  high.school       no      no  yes  telephone   \n",
              "\n",
              "  month day_of_week  ...  campaign  pdays  previous     poutcome emp.var.rate  \\\n",
              "0   may         mon  ...         1    999         0  nonexistent          1.1   \n",
              "1   may         mon  ...         1    999         0  nonexistent          1.1   \n",
              "2   may         mon  ...         1    999         0  nonexistent          1.1   \n",
              "3   may         mon  ...         1    999         0  nonexistent          1.1   \n",
              "4   may         mon  ...         1    999         0  nonexistent          1.1   \n",
              "\n",
              "   cons.price.idx  cons.conf.idx  euribor3m  nr.employed   y  \n",
              "0          93.994          -36.4      4.857       5191.0  no  \n",
              "1          93.994          -36.4      4.857       5191.0  no  \n",
              "2          93.994          -36.4      4.857       5191.0  no  \n",
              "3          93.994          -36.4      4.857       5191.0  no  \n",
              "4          93.994          -36.4      4.857       5191.0  no  \n",
              "\n",
              "[5 rows x 21 columns]"
            ],
            "text/html": [
              "\n",
              "  <div id=\"df-4c4fae6b-ffac-48e7-b0b5-604aa2c7fe26\" class=\"colab-df-container\">\n",
              "    <div>\n",
              "<style scoped>\n",
              "    .dataframe tbody tr th:only-of-type {\n",
              "        vertical-align: middle;\n",
              "    }\n",
              "\n",
              "    .dataframe tbody tr th {\n",
              "        vertical-align: top;\n",
              "    }\n",
              "\n",
              "    .dataframe thead th {\n",
              "        text-align: right;\n",
              "    }\n",
              "</style>\n",
              "<table border=\"1\" class=\"dataframe\">\n",
              "  <thead>\n",
              "    <tr style=\"text-align: right;\">\n",
              "      <th></th>\n",
              "      <th>age</th>\n",
              "      <th>job</th>\n",
              "      <th>marital</th>\n",
              "      <th>education</th>\n",
              "      <th>default</th>\n",
              "      <th>housing</th>\n",
              "      <th>loan</th>\n",
              "      <th>contact</th>\n",
              "      <th>month</th>\n",
              "      <th>day_of_week</th>\n",
              "      <th>...</th>\n",
              "      <th>campaign</th>\n",
              "      <th>pdays</th>\n",
              "      <th>previous</th>\n",
              "      <th>poutcome</th>\n",
              "      <th>emp.var.rate</th>\n",
              "      <th>cons.price.idx</th>\n",
              "      <th>cons.conf.idx</th>\n",
              "      <th>euribor3m</th>\n",
              "      <th>nr.employed</th>\n",
              "      <th>y</th>\n",
              "    </tr>\n",
              "  </thead>\n",
              "  <tbody>\n",
              "    <tr>\n",
              "      <th>0</th>\n",
              "      <td>56</td>\n",
              "      <td>housemaid</td>\n",
              "      <td>married</td>\n",
              "      <td>basic.4y</td>\n",
              "      <td>no</td>\n",
              "      <td>no</td>\n",
              "      <td>no</td>\n",
              "      <td>telephone</td>\n",
              "      <td>may</td>\n",
              "      <td>mon</td>\n",
              "      <td>...</td>\n",
              "      <td>1</td>\n",
              "      <td>999</td>\n",
              "      <td>0</td>\n",
              "      <td>nonexistent</td>\n",
              "      <td>1.1</td>\n",
              "      <td>93.994</td>\n",
              "      <td>-36.4</td>\n",
              "      <td>4.857</td>\n",
              "      <td>5191.0</td>\n",
              "      <td>no</td>\n",
              "    </tr>\n",
              "    <tr>\n",
              "      <th>1</th>\n",
              "      <td>57</td>\n",
              "      <td>services</td>\n",
              "      <td>married</td>\n",
              "      <td>high.school</td>\n",
              "      <td>unknown</td>\n",
              "      <td>no</td>\n",
              "      <td>no</td>\n",
              "      <td>telephone</td>\n",
              "      <td>may</td>\n",
              "      <td>mon</td>\n",
              "      <td>...</td>\n",
              "      <td>1</td>\n",
              "      <td>999</td>\n",
              "      <td>0</td>\n",
              "      <td>nonexistent</td>\n",
              "      <td>1.1</td>\n",
              "      <td>93.994</td>\n",
              "      <td>-36.4</td>\n",
              "      <td>4.857</td>\n",
              "      <td>5191.0</td>\n",
              "      <td>no</td>\n",
              "    </tr>\n",
              "    <tr>\n",
              "      <th>2</th>\n",
              "      <td>37</td>\n",
              "      <td>services</td>\n",
              "      <td>married</td>\n",
              "      <td>high.school</td>\n",
              "      <td>no</td>\n",
              "      <td>yes</td>\n",
              "      <td>no</td>\n",
              "      <td>telephone</td>\n",
              "      <td>may</td>\n",
              "      <td>mon</td>\n",
              "      <td>...</td>\n",
              "      <td>1</td>\n",
              "      <td>999</td>\n",
              "      <td>0</td>\n",
              "      <td>nonexistent</td>\n",
              "      <td>1.1</td>\n",
              "      <td>93.994</td>\n",
              "      <td>-36.4</td>\n",
              "      <td>4.857</td>\n",
              "      <td>5191.0</td>\n",
              "      <td>no</td>\n",
              "    </tr>\n",
              "    <tr>\n",
              "      <th>3</th>\n",
              "      <td>40</td>\n",
              "      <td>admin.</td>\n",
              "      <td>married</td>\n",
              "      <td>basic.6y</td>\n",
              "      <td>no</td>\n",
              "      <td>no</td>\n",
              "      <td>no</td>\n",
              "      <td>telephone</td>\n",
              "      <td>may</td>\n",
              "      <td>mon</td>\n",
              "      <td>...</td>\n",
              "      <td>1</td>\n",
              "      <td>999</td>\n",
              "      <td>0</td>\n",
              "      <td>nonexistent</td>\n",
              "      <td>1.1</td>\n",
              "      <td>93.994</td>\n",
              "      <td>-36.4</td>\n",
              "      <td>4.857</td>\n",
              "      <td>5191.0</td>\n",
              "      <td>no</td>\n",
              "    </tr>\n",
              "    <tr>\n",
              "      <th>4</th>\n",
              "      <td>56</td>\n",
              "      <td>services</td>\n",
              "      <td>married</td>\n",
              "      <td>high.school</td>\n",
              "      <td>no</td>\n",
              "      <td>no</td>\n",
              "      <td>yes</td>\n",
              "      <td>telephone</td>\n",
              "      <td>may</td>\n",
              "      <td>mon</td>\n",
              "      <td>...</td>\n",
              "      <td>1</td>\n",
              "      <td>999</td>\n",
              "      <td>0</td>\n",
              "      <td>nonexistent</td>\n",
              "      <td>1.1</td>\n",
              "      <td>93.994</td>\n",
              "      <td>-36.4</td>\n",
              "      <td>4.857</td>\n",
              "      <td>5191.0</td>\n",
              "      <td>no</td>\n",
              "    </tr>\n",
              "  </tbody>\n",
              "</table>\n",
              "<p>5 rows × 21 columns</p>\n",
              "</div>\n",
              "    <div class=\"colab-df-buttons\">\n",
              "\n",
              "  <div class=\"colab-df-container\">\n",
              "    <button class=\"colab-df-convert\" onclick=\"convertToInteractive('df-4c4fae6b-ffac-48e7-b0b5-604aa2c7fe26')\"\n",
              "            title=\"Convert this dataframe to an interactive table.\"\n",
              "            style=\"display:none;\">\n",
              "\n",
              "  <svg xmlns=\"http://www.w3.org/2000/svg\" height=\"24px\" viewBox=\"0 -960 960 960\">\n",
              "    <path d=\"M120-120v-720h720v720H120Zm60-500h600v-160H180v160Zm220 220h160v-160H400v160Zm0 220h160v-160H400v160ZM180-400h160v-160H180v160Zm440 0h160v-160H620v160ZM180-180h160v-160H180v160Zm440 0h160v-160H620v160Z\"/>\n",
              "  </svg>\n",
              "    </button>\n",
              "\n",
              "  <style>\n",
              "    .colab-df-container {\n",
              "      display:flex;\n",
              "      gap: 12px;\n",
              "    }\n",
              "\n",
              "    .colab-df-convert {\n",
              "      background-color: #E8F0FE;\n",
              "      border: none;\n",
              "      border-radius: 50%;\n",
              "      cursor: pointer;\n",
              "      display: none;\n",
              "      fill: #1967D2;\n",
              "      height: 32px;\n",
              "      padding: 0 0 0 0;\n",
              "      width: 32px;\n",
              "    }\n",
              "\n",
              "    .colab-df-convert:hover {\n",
              "      background-color: #E2EBFA;\n",
              "      box-shadow: 0px 1px 2px rgba(60, 64, 67, 0.3), 0px 1px 3px 1px rgba(60, 64, 67, 0.15);\n",
              "      fill: #174EA6;\n",
              "    }\n",
              "\n",
              "    .colab-df-buttons div {\n",
              "      margin-bottom: 4px;\n",
              "    }\n",
              "\n",
              "    [theme=dark] .colab-df-convert {\n",
              "      background-color: #3B4455;\n",
              "      fill: #D2E3FC;\n",
              "    }\n",
              "\n",
              "    [theme=dark] .colab-df-convert:hover {\n",
              "      background-color: #434B5C;\n",
              "      box-shadow: 0px 1px 3px 1px rgba(0, 0, 0, 0.15);\n",
              "      filter: drop-shadow(0px 1px 2px rgba(0, 0, 0, 0.3));\n",
              "      fill: #FFFFFF;\n",
              "    }\n",
              "  </style>\n",
              "\n",
              "    <script>\n",
              "      const buttonEl =\n",
              "        document.querySelector('#df-4c4fae6b-ffac-48e7-b0b5-604aa2c7fe26 button.colab-df-convert');\n",
              "      buttonEl.style.display =\n",
              "        google.colab.kernel.accessAllowed ? 'block' : 'none';\n",
              "\n",
              "      async function convertToInteractive(key) {\n",
              "        const element = document.querySelector('#df-4c4fae6b-ffac-48e7-b0b5-604aa2c7fe26');\n",
              "        const dataTable =\n",
              "          await google.colab.kernel.invokeFunction('convertToInteractive',\n",
              "                                                    [key], {});\n",
              "        if (!dataTable) return;\n",
              "\n",
              "        const docLinkHtml = 'Like what you see? Visit the ' +\n",
              "          '<a target=\"_blank\" href=https://colab.research.google.com/notebooks/data_table.ipynb>data table notebook</a>'\n",
              "          + ' to learn more about interactive tables.';\n",
              "        element.innerHTML = '';\n",
              "        dataTable['output_type'] = 'display_data';\n",
              "        await google.colab.output.renderOutput(dataTable, element);\n",
              "        const docLink = document.createElement('div');\n",
              "        docLink.innerHTML = docLinkHtml;\n",
              "        element.appendChild(docLink);\n",
              "      }\n",
              "    </script>\n",
              "  </div>\n",
              "\n",
              "\n",
              "<div id=\"df-4515a4c1-8c9c-44f2-8731-17312498b830\">\n",
              "  <button class=\"colab-df-quickchart\" onclick=\"quickchart('df-4515a4c1-8c9c-44f2-8731-17312498b830')\"\n",
              "            title=\"Suggest charts\"\n",
              "            style=\"display:none;\">\n",
              "\n",
              "<svg xmlns=\"http://www.w3.org/2000/svg\" height=\"24px\"viewBox=\"0 0 24 24\"\n",
              "     width=\"24px\">\n",
              "    <g>\n",
              "        <path d=\"M19 3H5c-1.1 0-2 .9-2 2v14c0 1.1.9 2 2 2h14c1.1 0 2-.9 2-2V5c0-1.1-.9-2-2-2zM9 17H7v-7h2v7zm4 0h-2V7h2v10zm4 0h-2v-4h2v4z\"/>\n",
              "    </g>\n",
              "</svg>\n",
              "  </button>\n",
              "\n",
              "<style>\n",
              "  .colab-df-quickchart {\n",
              "      --bg-color: #E8F0FE;\n",
              "      --fill-color: #1967D2;\n",
              "      --hover-bg-color: #E2EBFA;\n",
              "      --hover-fill-color: #174EA6;\n",
              "      --disabled-fill-color: #AAA;\n",
              "      --disabled-bg-color: #DDD;\n",
              "  }\n",
              "\n",
              "  [theme=dark] .colab-df-quickchart {\n",
              "      --bg-color: #3B4455;\n",
              "      --fill-color: #D2E3FC;\n",
              "      --hover-bg-color: #434B5C;\n",
              "      --hover-fill-color: #FFFFFF;\n",
              "      --disabled-bg-color: #3B4455;\n",
              "      --disabled-fill-color: #666;\n",
              "  }\n",
              "\n",
              "  .colab-df-quickchart {\n",
              "    background-color: var(--bg-color);\n",
              "    border: none;\n",
              "    border-radius: 50%;\n",
              "    cursor: pointer;\n",
              "    display: none;\n",
              "    fill: var(--fill-color);\n",
              "    height: 32px;\n",
              "    padding: 0;\n",
              "    width: 32px;\n",
              "  }\n",
              "\n",
              "  .colab-df-quickchart:hover {\n",
              "    background-color: var(--hover-bg-color);\n",
              "    box-shadow: 0 1px 2px rgba(60, 64, 67, 0.3), 0 1px 3px 1px rgba(60, 64, 67, 0.15);\n",
              "    fill: var(--button-hover-fill-color);\n",
              "  }\n",
              "\n",
              "  .colab-df-quickchart-complete:disabled,\n",
              "  .colab-df-quickchart-complete:disabled:hover {\n",
              "    background-color: var(--disabled-bg-color);\n",
              "    fill: var(--disabled-fill-color);\n",
              "    box-shadow: none;\n",
              "  }\n",
              "\n",
              "  .colab-df-spinner {\n",
              "    border: 2px solid var(--fill-color);\n",
              "    border-color: transparent;\n",
              "    border-bottom-color: var(--fill-color);\n",
              "    animation:\n",
              "      spin 1s steps(1) infinite;\n",
              "  }\n",
              "\n",
              "  @keyframes spin {\n",
              "    0% {\n",
              "      border-color: transparent;\n",
              "      border-bottom-color: var(--fill-color);\n",
              "      border-left-color: var(--fill-color);\n",
              "    }\n",
              "    20% {\n",
              "      border-color: transparent;\n",
              "      border-left-color: var(--fill-color);\n",
              "      border-top-color: var(--fill-color);\n",
              "    }\n",
              "    30% {\n",
              "      border-color: transparent;\n",
              "      border-left-color: var(--fill-color);\n",
              "      border-top-color: var(--fill-color);\n",
              "      border-right-color: var(--fill-color);\n",
              "    }\n",
              "    40% {\n",
              "      border-color: transparent;\n",
              "      border-right-color: var(--fill-color);\n",
              "      border-top-color: var(--fill-color);\n",
              "    }\n",
              "    60% {\n",
              "      border-color: transparent;\n",
              "      border-right-color: var(--fill-color);\n",
              "    }\n",
              "    80% {\n",
              "      border-color: transparent;\n",
              "      border-right-color: var(--fill-color);\n",
              "      border-bottom-color: var(--fill-color);\n",
              "    }\n",
              "    90% {\n",
              "      border-color: transparent;\n",
              "      border-bottom-color: var(--fill-color);\n",
              "    }\n",
              "  }\n",
              "</style>\n",
              "\n",
              "  <script>\n",
              "    async function quickchart(key) {\n",
              "      const quickchartButtonEl =\n",
              "        document.querySelector('#' + key + ' button');\n",
              "      quickchartButtonEl.disabled = true;  // To prevent multiple clicks.\n",
              "      quickchartButtonEl.classList.add('colab-df-spinner');\n",
              "      try {\n",
              "        const charts = await google.colab.kernel.invokeFunction(\n",
              "            'suggestCharts', [key], {});\n",
              "      } catch (error) {\n",
              "        console.error('Error during call to suggestCharts:', error);\n",
              "      }\n",
              "      quickchartButtonEl.classList.remove('colab-df-spinner');\n",
              "      quickchartButtonEl.classList.add('colab-df-quickchart-complete');\n",
              "    }\n",
              "    (() => {\n",
              "      let quickchartButtonEl =\n",
              "        document.querySelector('#df-4515a4c1-8c9c-44f2-8731-17312498b830 button');\n",
              "      quickchartButtonEl.style.display =\n",
              "        google.colab.kernel.accessAllowed ? 'block' : 'none';\n",
              "    })();\n",
              "  </script>\n",
              "</div>\n",
              "\n",
              "    </div>\n",
              "  </div>\n"
            ],
            "application/vnd.google.colaboratory.intrinsic+json": {
              "type": "dataframe",
              "variable_name": "data_full_additional"
            }
          },
          "metadata": {},
          "execution_count": 4
        }
      ]
    },
    {
      "cell_type": "markdown",
      "source": [
        "# **Data Cleaning**"
      ],
      "metadata": {
        "id": "jThU6Bps3NTl"
      }
    },
    {
      "cell_type": "markdown",
      "source": [
        "Removing whitespaces from the object type columns"
      ],
      "metadata": {
        "id": "wRlNerlbjPRA"
      }
    },
    {
      "cell_type": "code",
      "source": [
        "# Removing whitespaces from the object type column\n",
        "object_columns = data_full_additional.select_dtypes(include=['object']).columns\n",
        "data_full_additional[object_columns] = data_full_additional[object_columns].apply(lambda x: x.str.strip())"
      ],
      "metadata": {
        "id": "Y5kC8yM-3Vot"
      },
      "execution_count": 5,
      "outputs": []
    },
    {
      "cell_type": "markdown",
      "source": [
        "Removing unnecessary fullstops(\" . \") near the admin in the job column"
      ],
      "metadata": {
        "id": "e8zrrLFP_bsv"
      }
    },
    {
      "cell_type": "code",
      "source": [
        "# Removing unnecessary full stops(\".\") from the 'job' column\n",
        "data_full_additional['job'] = data_full_additional['job'].apply(lambda x: x.replace('.', '') if isinstance(x, str) else x)"
      ],
      "metadata": {
        "id": "i_PgxFFt_av7"
      },
      "execution_count": 6,
      "outputs": []
    },
    {
      "cell_type": "markdown",
      "source": [
        "## **Removing Duplicates**"
      ],
      "metadata": {
        "id": "BJYk1Qvd6WqV"
      }
    },
    {
      "cell_type": "markdown",
      "source": [
        "Eliminating the duplicate values from the dataset"
      ],
      "metadata": {
        "id": "IpUkiyQy_8wM"
      }
    },
    {
      "cell_type": "code",
      "source": [
        "# Removing duplicates\n",
        "print(f\"Initial dataset shape: {data_full_additional.shape}\")\n",
        "data_full_additional = data_full_additional.drop_duplicates()\n",
        "print(f\"Shape after removing duplicates: {data_full_additional.shape}\")"
      ],
      "metadata": {
        "colab": {
          "base_uri": "https://localhost:8080/"
        },
        "id": "6iIx2N874eSF",
        "outputId": "06a60e93-47dc-47dd-ec38-6d05f29dca14"
      },
      "execution_count": 7,
      "outputs": [
        {
          "output_type": "stream",
          "name": "stdout",
          "text": [
            "Initial dataset shape: (41188, 21)\n",
            "Shape after removing duplicates: (41176, 21)\n"
          ]
        }
      ]
    },
    {
      "cell_type": "code",
      "source": [
        "# Display dataset information\n",
        "print(\"Dataset Information:\")\n",
        "print(data_full_additional.info())"
      ],
      "metadata": {
        "colab": {
          "base_uri": "https://localhost:8080/"
        },
        "id": "-cfRD0tIJZTG",
        "outputId": "c6477c0c-0e60-49bc-ec4d-302bb2a81546"
      },
      "execution_count": 8,
      "outputs": [
        {
          "output_type": "stream",
          "name": "stdout",
          "text": [
            "Dataset Information:\n",
            "<class 'pandas.core.frame.DataFrame'>\n",
            "Index: 41176 entries, 0 to 41187\n",
            "Data columns (total 21 columns):\n",
            " #   Column          Non-Null Count  Dtype  \n",
            "---  ------          --------------  -----  \n",
            " 0   age             41176 non-null  int64  \n",
            " 1   job             41176 non-null  object \n",
            " 2   marital         41176 non-null  object \n",
            " 3   education       41176 non-null  object \n",
            " 4   default         41176 non-null  object \n",
            " 5   housing         41176 non-null  object \n",
            " 6   loan            41176 non-null  object \n",
            " 7   contact         41176 non-null  object \n",
            " 8   month           41176 non-null  object \n",
            " 9   day_of_week     41176 non-null  object \n",
            " 10  duration        41176 non-null  int64  \n",
            " 11  campaign        41176 non-null  int64  \n",
            " 12  pdays           41176 non-null  int64  \n",
            " 13  previous        41176 non-null  int64  \n",
            " 14  poutcome        41176 non-null  object \n",
            " 15  emp.var.rate    41176 non-null  float64\n",
            " 16  cons.price.idx  41176 non-null  float64\n",
            " 17  cons.conf.idx   41176 non-null  float64\n",
            " 18  euribor3m       41176 non-null  float64\n",
            " 19  nr.employed     41176 non-null  float64\n",
            " 20  y               41176 non-null  object \n",
            "dtypes: float64(5), int64(5), object(11)\n",
            "memory usage: 6.9+ MB\n",
            "None\n"
          ]
        }
      ]
    },
    {
      "cell_type": "markdown",
      "source": [
        "## **Handling Missing Data**"
      ],
      "metadata": {
        "id": "fZ6PqwO4i1wM"
      }
    },
    {
      "cell_type": "markdown",
      "source": [
        "Handling missing values in the categorical columns"
      ],
      "metadata": {
        "id": "xIzmTn2ko-Vx"
      }
    },
    {
      "cell_type": "code",
      "source": [
        "# Handling \"unknown\" values in categorical features\n",
        "categorical_cols = [\n",
        "    'job', 'marital', 'education', 'default', 'housing',\n",
        "    'loan', 'contact', 'month', 'day_of_week', 'poutcome'\n",
        "]"
      ],
      "metadata": {
        "id": "f9RgGOB84m8F"
      },
      "execution_count": 9,
      "outputs": []
    },
    {
      "cell_type": "code",
      "source": [
        "# Creating an empty list\n",
        "unknown_values = []\n",
        "\n",
        "# Checking for 'unknown' values in the data of categorical columns\n",
        "for col in categorical_cols:\n",
        "    unknown_count = (data_full_additional[col] == 'unknown').sum()\n",
        "    if unknown_count > 0:\n",
        "        unknown_values.append({'Column': col, 'Count': unknown_count})\n",
        "\n",
        "# Converting the list into a pandas DataFrame\n",
        "unknown_values_df = (\n",
        "    pd.DataFrame(unknown_values)\n",
        "    .sort_values(by='Count', ascending=False)\n",
        "    .reset_index(drop=True)\n",
        ")\n",
        "\n",
        "# Displaying the DataFrame\n",
        "print(\"\\nColumns with 'unknown' values and their counts:\")\n",
        "print()\n",
        "print(unknown_values_df)\n"
      ],
      "metadata": {
        "colab": {
          "base_uri": "https://localhost:8080/"
        },
        "id": "zmyNFBq-0b2M",
        "outputId": "8eefe06a-4103-4e70-c3f7-bfd95af8a073"
      },
      "execution_count": 10,
      "outputs": [
        {
          "output_type": "stream",
          "name": "stdout",
          "text": [
            "\n",
            "Columns with 'unknown' values and their counts:\n",
            "\n",
            "      Column  Count\n",
            "0    default   8596\n",
            "1  education   1730\n",
            "2    housing    990\n",
            "3       loan    990\n",
            "4        job    330\n",
            "5    marital     80\n"
          ]
        }
      ]
    },
    {
      "cell_type": "code",
      "source": [
        "# Displaying the unique values and their counts relevant to each column containing \"unknown\" values\n",
        "for _, row in unknown_values_df.iterrows():\n",
        "    col = row['Column']\n",
        "    unique_values = data_full_additional[col].unique()\n",
        "    value_counts = data_full_additional[col].value_counts()\n",
        "    print(value_counts)\n",
        "    print(\" \")"
      ],
      "metadata": {
        "colab": {
          "base_uri": "https://localhost:8080/"
        },
        "id": "0RBAa7TQ7cyP",
        "outputId": "b78fb932-e27c-4827-b44b-82f83b16e1c6"
      },
      "execution_count": 11,
      "outputs": [
        {
          "output_type": "stream",
          "name": "stdout",
          "text": [
            "default\n",
            "no         32577\n",
            "unknown     8596\n",
            "yes            3\n",
            "Name: count, dtype: int64\n",
            " \n",
            "education\n",
            "university.degree      12164\n",
            "high.school             9512\n",
            "basic.9y                6045\n",
            "professional.course     5240\n",
            "basic.4y                4176\n",
            "basic.6y                2291\n",
            "unknown                 1730\n",
            "illiterate                18\n",
            "Name: count, dtype: int64\n",
            " \n",
            "housing\n",
            "yes        21571\n",
            "no         18615\n",
            "unknown      990\n",
            "Name: count, dtype: int64\n",
            " \n",
            "loan\n",
            "no         33938\n",
            "yes         6248\n",
            "unknown      990\n",
            "Name: count, dtype: int64\n",
            " \n",
            "job\n",
            "admin            10419\n",
            "blue-collar       9253\n",
            "technician        6739\n",
            "services          3967\n",
            "management        2924\n",
            "retired           1718\n",
            "entrepreneur      1456\n",
            "self-employed     1421\n",
            "housemaid         1060\n",
            "unemployed        1014\n",
            "student            875\n",
            "unknown            330\n",
            "Name: count, dtype: int64\n",
            " \n",
            "marital\n",
            "married     24921\n",
            "single      11564\n",
            "divorced     4611\n",
            "unknown        80\n",
            "Name: count, dtype: int64\n",
            " \n"
          ]
        }
      ]
    },
    {
      "cell_type": "code",
      "source": [
        "# List of categorical columns to handle specifically with mode\n",
        "columns_to_handle_with_mode = ['marital', 'default', 'housing', 'loan']\n",
        "\n",
        "# Replacing \"unknown\" with NaN for imputation\n",
        "data_full_additional[columns_to_handle_with_mode] = data_full_additional[columns_to_handle_with_mode].replace('unknown', np.nan)"
      ],
      "metadata": {
        "id": "nkoxW8Kxz54R"
      },
      "execution_count": 12,
      "outputs": []
    },
    {
      "cell_type": "markdown",
      "source": [
        "Replacing the missing (\"unknown values changed to NaN for imputation\") data contained within the \"loan\" column with the mode (\"no\") since the mode represents more than 80% of this column this is considered as the most optimal choice to handle those missing values. Additionally, missing values in the columns, martial and housing also replaced with the mode since more than 60% of those columns also consists of the mode and those columns has comparably less number of missing values."
      ],
      "metadata": {
        "id": "6x0a2HQ0StB5"
      }
    },
    {
      "cell_type": "code",
      "source": [
        "# Replacing NaN with the mode in the specified columns (loan, martial and housing)\n",
        "for col in columns_to_handle_with_mode:\n",
        "    mode_value = data_full_additional[col].mode()[0]\n",
        "    data_full_additional[col] = data_full_additional[col].fillna(mode_value)"
      ],
      "metadata": {
        "id": "HiE4gCniRjE5"
      },
      "execution_count": 13,
      "outputs": []
    },
    {
      "cell_type": "markdown",
      "source": [
        "Checking for columns which contains unhandled missing values"
      ],
      "metadata": {
        "id": "IAd8vrROF6c8"
      }
    },
    {
      "cell_type": "code",
      "source": [
        "# Verifying the changes and checking for the columns which contain 'unknown' values\n",
        "print(\"\\nColumns with 'unknown' values and their counts:\\n\")\n",
        "for _, row in unknown_values_df.drop_duplicates(subset='Column').iterrows():\n",
        "    col = row['Column']\n",
        "    # Count the number of \"unknown\" values in the column\n",
        "    unknown_count = data_full_additional[col].str.contains('unknown', case=False, na=False).sum()\n",
        "    if unknown_count > 0:\n",
        "        print(f\"{col} : {unknown_count}\")"
      ],
      "metadata": {
        "id": "mQcPkk2HT12R",
        "colab": {
          "base_uri": "https://localhost:8080/"
        },
        "outputId": "82f99597-53f2-4efe-b893-54f049b5fa24"
      },
      "execution_count": 14,
      "outputs": [
        {
          "output_type": "stream",
          "name": "stdout",
          "text": [
            "\n",
            "Columns with 'unknown' values and their counts:\n",
            "\n",
            "education : 1730\n",
            "job : 330\n"
          ]
        }
      ]
    },
    {
      "cell_type": "markdown",
      "source": [
        "Considering the missing values in the columns, \"job\" and \"education\" as a seperate category during the encoding process"
      ],
      "metadata": {
        "id": "sAksCdLAcOHr"
      }
    },
    {
      "cell_type": "markdown",
      "source": [
        "Encoding the non-ordinal categorical variables using one-hot encoding"
      ],
      "metadata": {
        "id": "elvFdNhtGZuK"
      }
    },
    {
      "cell_type": "code",
      "source": [
        "#  One-hot encoding for non-ordinal categorical variables\n",
        "non_ordinal_cols = ['job', 'marital', 'contact', 'poutcome', 'month', 'day_of_week']\n",
        "data_full_additional = pd.get_dummies(data_full_additional, columns=non_ordinal_cols, drop_first=True)"
      ],
      "metadata": {
        "id": "2dMXivtc5QjN"
      },
      "execution_count": 15,
      "outputs": []
    },
    {
      "cell_type": "markdown",
      "source": [
        "Encoding the ordinal categorical variables using labeled encoding"
      ],
      "metadata": {
        "id": "2cYWU5jkGnyY"
      }
    },
    {
      "cell_type": "code",
      "source": [
        "# Mapping ordinal categorical variables\n",
        "education_mapping = {\n",
        "    'illiterate': 1, 'basic.4y': 2, 'basic.6y': 3, 'basic.9y': 4, 'high.school': 5,\n",
        "    'professional.course': 6, 'university.degree': 7, 'unknown': 0\n",
        "}\n",
        "default_mapping = {'no': 0, 'yes': 1}\n",
        "housing_mapping = {'no': 0, 'yes': 1}\n",
        "loan_mapping = {'no': 0, 'yes': 1}\n",
        "\n",
        "data_full_additional['education'] = data_full_additional['education'].map(education_mapping)\n",
        "data_full_additional['default'] = data_full_additional['default'].map(default_mapping)\n",
        "data_full_additional['housing'] = data_full_additional['housing'].map(housing_mapping)\n",
        "data_full_additional['loan'] = data_full_additional['loan'].map(loan_mapping)"
      ],
      "metadata": {
        "id": "FyxyZAAqgGwe"
      },
      "execution_count": 16,
      "outputs": []
    },
    {
      "cell_type": "markdown",
      "source": [
        "Excluding the 'duration' feature to avoid data leakage, as it directly depends on the outcome\n",
        "and would not be available at the time of prediction in a real-world scenario."
      ],
      "metadata": {
        "id": "xK7lkJgeIv8B"
      }
    },
    {
      "cell_type": "code",
      "source": [
        "# Excluding the 'duration' feature for realistic predictive modeling\n",
        "data_full_additional = data_full_additional.drop(columns=['duration'])"
      ],
      "metadata": {
        "id": "omC7ZpXwgM1R"
      },
      "execution_count": 17,
      "outputs": []
    },
    {
      "cell_type": "markdown",
      "source": [
        "Excluding the default column since one case (\" no \") dominates more than 90% of that column"
      ],
      "metadata": {
        "id": "ZITKtW2ILj5j"
      }
    },
    {
      "cell_type": "code",
      "source": [
        "# Excluding the duration column since more than 90% of the data in the column is dominated by the value \"no\"\n",
        "data_full_additional = data_full_additional.drop(columns=['default'])"
      ],
      "metadata": {
        "id": "XmUAB0rVLjM8"
      },
      "execution_count": 18,
      "outputs": []
    },
    {
      "cell_type": "markdown",
      "source": [
        "Checking the unique values of the \"pdays\" column with the relavant percentage"
      ],
      "metadata": {
        "id": "AEi2CBmtqGdA"
      }
    },
    {
      "cell_type": "code",
      "source": [
        "# Calculating value counts and percentages\n",
        "value_counts = data_full_additional['pdays'].value_counts(normalize=True) * 100\n",
        "\n",
        "# Displaying unique values with percentages\n",
        "print(\"Unique values in the 'pdays' column with their percentages:\")\n",
        "print(\" \")\n",
        "print(value_counts)"
      ],
      "metadata": {
        "colab": {
          "base_uri": "https://localhost:8080/"
        },
        "id": "Gs3PSOsZqUJe",
        "outputId": "2526b3b4-dd7e-4f8e-8e9d-6b580ad9302a"
      },
      "execution_count": 19,
      "outputs": [
        {
          "output_type": "stream",
          "name": "stdout",
          "text": [
            "Unique values in the 'pdays' column with their percentages:\n",
            " \n",
            "pdays\n",
            "999    96.320672\n",
            "3       1.066155\n",
            "6       1.000583\n",
            "4       0.286575\n",
            "9       0.155430\n",
            "2       0.148145\n",
            "7       0.145716\n",
            "12      0.140859\n",
            "10      0.126287\n",
            "5       0.111716\n",
            "13      0.087430\n",
            "11      0.068001\n",
            "1       0.063144\n",
            "15      0.058286\n",
            "14      0.048572\n",
            "8       0.043715\n",
            "0       0.036429\n",
            "16      0.026715\n",
            "17      0.019429\n",
            "18      0.017000\n",
            "22      0.007286\n",
            "19      0.007286\n",
            "21      0.004857\n",
            "25      0.002429\n",
            "26      0.002429\n",
            "27      0.002429\n",
            "20      0.002429\n",
            "Name: proportion, dtype: float64\n"
          ]
        }
      ]
    },
    {
      "cell_type": "markdown",
      "source": [
        "Checking the correlation between the pdays and the target variable(y) since the dominating value of the pdays column is 999 which is more than 96% of the entire column"
      ],
      "metadata": {
        "id": "Zu-BteLhQfUM"
      }
    },
    {
      "cell_type": "code",
      "source": [
        "# Testing the correlation between the pdays column and the target variable (y)\n",
        "correlation = data_full_additional['pdays'].corr(data_full_additional['y'].map({'yes': 1, 'no': 0}))\n",
        "print(f\"Correlation between 'pdays' and 'y': {correlation}\")"
      ],
      "metadata": {
        "colab": {
          "base_uri": "https://localhost:8080/"
        },
        "id": "InDMedz_PdsM",
        "outputId": "c37c777c-5c24-4e95-d903-1bda9eede20e"
      },
      "execution_count": 20,
      "outputs": [
        {
          "output_type": "stream",
          "name": "stdout",
          "text": [
            "Correlation between 'pdays' and 'y': -0.32494758638558474\n"
          ]
        }
      ]
    },
    {
      "cell_type": "markdown",
      "source": [
        "The correlation between pdays and the target column y is -0.32494758638558474, which indicates a moderate negative relationship. This suggests that pdays provides some predictive information about the target variable. Which makes it inaccurate in eliminate the 'pdays' column"
      ],
      "metadata": {
        "id": "k0qHEnjNQr3Q"
      }
    },
    {
      "cell_type": "code",
      "source": [
        "# Scaling numerical features\n",
        "numerical_cols = [\n",
        "    'age', 'campaign', 'pdays', 'previous', 'emp.var.rate',\n",
        "    'cons.price.idx', 'cons.conf.idx', 'euribor3m', 'nr.employed'\n",
        "]\n",
        "scaler = StandardScaler()\n",
        "data_full_additional[numerical_cols] = scaler.fit_transform(data_full_additional[numerical_cols])"
      ],
      "metadata": {
        "id": "804u_7VtgT15"
      },
      "execution_count": null,
      "outputs": []
    },
    {
      "cell_type": "code",
      "source": [
        "# Target encoding\n",
        "# Encoding the target variable (y)\n",
        "data_full_additional['y'] = data_full_additional['y'].map({'yes': 1, 'no': 0})"
      ],
      "metadata": {
        "id": "qmTCpu78gZ_J"
      },
      "execution_count": null,
      "outputs": []
    },
    {
      "cell_type": "code",
      "source": [
        "# Adding derived features from numerical data\n",
        "data_full_additional['interaction_emp_cons'] = data_full_additional['emp.var.rate'] * data_full_additional['cons.price.idx']\n",
        "data_full_additional['interaction_nr_employed_conf'] = data_full_additional['nr.employed'] * data_full_additional['cons.conf.idx']"
      ],
      "metadata": {
        "id": "knmqDXJtgf-y"
      },
      "execution_count": null,
      "outputs": []
    },
    {
      "cell_type": "code",
      "source": [
        "# Spliting features and target variable\n",
        "X_full_additional = data_full_additional.drop(columns=['y'])\n",
        "y_full_additional = data_full_additional['y']\n"
      ],
      "metadata": {
        "id": "oW-OgqiwglHB"
      },
      "execution_count": null,
      "outputs": []
    },
    {
      "cell_type": "code",
      "source": [
        "# Splitting the data into Train-Test\n",
        "X_train, X_test, y_train, y_test = train_test_split(\n",
        "    X_full_additional, y_full_additional, test_size=0.2, random_state=42\n",
        ")"
      ],
      "metadata": {
        "id": "cAMmggV3gtO2"
      },
      "execution_count": null,
      "outputs": []
    },
    {
      "cell_type": "markdown",
      "source": [
        "# **Visulaization**"
      ],
      "metadata": {
        "id": "rbloABTa48OJ"
      }
    },
    {
      "cell_type": "code",
      "source": [
        "# Visualizing the distribution of the target variable\n",
        "sns.countplot(data=data_full_additional, x='y')\n",
        "plt.title('Target Variable Distribution')\n",
        "plt.show()"
      ],
      "metadata": {
        "colab": {
          "base_uri": "https://localhost:8080/",
          "height": 472
        },
        "id": "-pNtRJ2847xe",
        "outputId": "958fb38a-8ec6-4601-c6d5-5a513e7cb54d"
      },
      "execution_count": 26,
      "outputs": [
        {
          "output_type": "display_data",
          "data": {
            "text/plain": [
              "<Figure size 640x480 with 1 Axes>"
            ],
            "image/png": "[encoded data removed]"
          },
          "metadata": {}
        }
      ]
    },
    {
      "cell_type": "code",
      "source": [
        "# Ensure all non-numeric columns are excluded\n",
        "numeric_data = data_full_additional.select_dtypes(include=['number'])\n",
        "\n",
        "# Compute the correlation matrix\n",
        "corr = numeric_data.corr()\n",
        "\n",
        "# Plot the heatmap\n",
        "plt.figure(figsize=(10, 8))  # Optional: Adjust the figure size\n",
        "sns.heatmap(corr, annot=True, cmap='coolwarm', fmt=\".2f\", linewidths=0.5)\n",
        "plt.title('Feature Correlation')\n",
        "plt.show()"
      ],
      "metadata": {
        "colab": {
          "base_uri": "https://localhost:8080/",
          "height": 781
        },
        "id": "jfXhnV5P61cQ",
        "outputId": "6a683c7c-be2f-4021-ddd8-d169278f7592"
      },
      "execution_count": 28,
      "outputs": [
        {
          "output_type": "display_data",
          "data": {
            "text/plain": [
              "<Figure size 1000x800 with 2 Axes>"
            ],
            "image/png": "[encoded data removed]"
          },
          "metadata": {}
        }
      ]
    }
  ]
}