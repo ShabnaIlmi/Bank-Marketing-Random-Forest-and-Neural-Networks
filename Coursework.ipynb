{
  "nbformat": 4,
  "nbformat_minor": 0,
  "metadata": {
    "colab": {
      "provenance": [],
      "mount_file_id": "18r5tUPzhDk3aApdBOiqPW5K8yVOXw9cq",
      "authorship_tag": "ABX9TyNgX5wFa1lCLNfJ/n1sfpba",
      "include_colab_link": true
    },
    "kernelspec": {
      "name": "python3",
      "display_name": "Python 3"
    },
    "language_info": {
      "name": "python"
    }
  },
  "cells": [
    {
      "cell_type": "markdown",
      "metadata": {
        "id": "view-in-github",
        "colab_type": "text"
      },
      "source": [
        "<a href=\"https://colab.research.google.com/github/ShabnaIlmi/Bank-Marketing-Random-Forest-and-Neural-Networks/blob/main/Coursework.ipynb\" target=\"_parent\"><img src=\"https://colab.research.google.com/assets/colab-badge.svg\" alt=\"Open In Colab\"/></a>"
      ]
    },
    {
      "cell_type": "markdown",
      "source": [
        "# **Importing the necessary libraries**"
      ],
      "metadata": {
        "id": "Wg2FJn-hmAYd"
      }
    },
    {
      "cell_type": "code",
      "source": [
        "# Importing necessary libraries\n",
        "import pandas as pd\n",
        "import numpy as np\n",
        "from sklearn.model_selection import train_test_split\n",
        "from sklearn.preprocessing import StandardScaler, OneHotEncoder\n",
        "from sklearn.compose import ColumnTransformer\n",
        "from sklearn.pipeline import Pipeline\n",
        "from sklearn.impute import SimpleImputer\n",
        "from sklearn.model_selection import cross_val_score\n",
        "from sklearn.ensemble import RandomForestClassifier\n",
        "from sklearn.neural_network import MLPClassifier\n",
        "from sklearn.metrics import accuracy_score, classification_report, confusion_matrix, roc_auc_score, roc_curve\n",
        "from sklearn.decomposition import PCA\n",
        "import matplotlib.pyplot as plt\n",
        "import seaborn as sns\n",
        "from statsmodels.stats.outliers_influence import variance_inflation_factor"
      ],
      "metadata": {
        "id": "appA6aSFShDa"
      },
      "execution_count": 248,
      "outputs": []
    },
    {
      "cell_type": "code",
      "source": [
        "# Mounting the google drive\n",
        "from google.colab import drive\n",
        "drive.mount('/content/drive')"
      ],
      "metadata": {
        "colab": {
          "base_uri": "https://localhost:8080/"
        },
        "id": "A8mLbMU2ZQiN",
        "outputId": "f7095ad8-bfda-4c54-e295-74a237d56488"
      },
      "execution_count": 249,
      "outputs": [
        {
          "output_type": "stream",
          "name": "stdout",
          "text": [
            "Drive already mounted at /content/drive; to attempt to forcibly remount, call drive.mount(\"/content/drive\", force_remount=True).\n"
          ]
        }
      ]
    },
    {
      "cell_type": "markdown",
      "source": [
        "# **Loading the dataset**"
      ],
      "metadata": {
        "id": "5mUYkDdkZXIc"
      }
    },
    {
      "cell_type": "code",
      "source": [
        "# Loading the dataset with the proper delimiter (semicolon)\n",
        "data = pd.read_csv('/content/drive/MyDrive/Bank-Marketing-Random-Forest-and-Neural-Networks/bank-additional-full.csv', delimiter=';')"
      ],
      "metadata": {
        "id": "Cgx_JkZKZWb5"
      },
      "execution_count": 250,
      "outputs": []
    },
    {
      "cell_type": "code",
      "source": [
        "# Displaying the data contained within the dataset\n",
        "data.head()"
      ],
      "metadata": {
        "colab": {
          "base_uri": "https://localhost:8080/",
          "height": 255
        },
        "id": "1wrIaZeMZgj-",
        "outputId": "88187f8b-f067-4f4f-c93b-9d6e11c7034d"
      },
      "execution_count": 251,
      "outputs": [
        {
          "output_type": "execute_result",
          "data": {
            "text/plain": [
              "   age        job  marital    education  default housing loan    contact  \\\n",
              "0   56  housemaid  married     basic.4y       no      no   no  telephone   \n",
              "1   57   services  married  high.school  unknown      no   no  telephone   \n",
              "2   37   services  married  high.school       no     yes   no  telephone   \n",
              "3   40     admin.  married     basic.6y       no      no   no  telephone   \n",
              "4   56   services  married  high.school       no      no  yes  telephone   \n",
              "\n",
              "  month day_of_week  ...  campaign  pdays  previous     poutcome emp.var.rate  \\\n",
              "0   may         mon  ...         1    999         0  nonexistent          1.1   \n",
              "1   may         mon  ...         1    999         0  nonexistent          1.1   \n",
              "2   may         mon  ...         1    999         0  nonexistent          1.1   \n",
              "3   may         mon  ...         1    999         0  nonexistent          1.1   \n",
              "4   may         mon  ...         1    999         0  nonexistent          1.1   \n",
              "\n",
              "   cons.price.idx  cons.conf.idx  euribor3m  nr.employed   y  \n",
              "0          93.994          -36.4      4.857       5191.0  no  \n",
              "1          93.994          -36.4      4.857       5191.0  no  \n",
              "2          93.994          -36.4      4.857       5191.0  no  \n",
              "3          93.994          -36.4      4.857       5191.0  no  \n",
              "4          93.994          -36.4      4.857       5191.0  no  \n",
              "\n",
              "[5 rows x 21 columns]"
            ],
            "text/html": [
              "\n",
              "  <div id=\"df-a15aaae9-b12b-499d-a977-4736578ca006\" class=\"colab-df-container\">\n",
              "    <div>\n",
              "<style scoped>\n",
              "    .dataframe tbody tr th:only-of-type {\n",
              "        vertical-align: middle;\n",
              "    }\n",
              "\n",
              "    .dataframe tbody tr th {\n",
              "        vertical-align: top;\n",
              "    }\n",
              "\n",
              "    .dataframe thead th {\n",
              "        text-align: right;\n",
              "    }\n",
              "</style>\n",
              "<table border=\"1\" class=\"dataframe\">\n",
              "  <thead>\n",
              "    <tr style=\"text-align: right;\">\n",
              "      <th></th>\n",
              "      <th>age</th>\n",
              "      <th>job</th>\n",
              "      <th>marital</th>\n",
              "      <th>education</th>\n",
              "      <th>default</th>\n",
              "      <th>housing</th>\n",
              "      <th>loan</th>\n",
              "      <th>contact</th>\n",
              "      <th>month</th>\n",
              "      <th>day_of_week</th>\n",
              "      <th>...</th>\n",
              "      <th>campaign</th>\n",
              "      <th>pdays</th>\n",
              "      <th>previous</th>\n",
              "      <th>poutcome</th>\n",
              "      <th>emp.var.rate</th>\n",
              "      <th>cons.price.idx</th>\n",
              "      <th>cons.conf.idx</th>\n",
              "      <th>euribor3m</th>\n",
              "      <th>nr.employed</th>\n",
              "      <th>y</th>\n",
              "    </tr>\n",
              "  </thead>\n",
              "  <tbody>\n",
              "    <tr>\n",
              "      <th>0</th>\n",
              "      <td>56</td>\n",
              "      <td>housemaid</td>\n",
              "      <td>married</td>\n",
              "      <td>basic.4y</td>\n",
              "      <td>no</td>\n",
              "      <td>no</td>\n",
              "      <td>no</td>\n",
              "      <td>telephone</td>\n",
              "      <td>may</td>\n",
              "      <td>mon</td>\n",
              "      <td>...</td>\n",
              "      <td>1</td>\n",
              "      <td>999</td>\n",
              "      <td>0</td>\n",
              "      <td>nonexistent</td>\n",
              "      <td>1.1</td>\n",
              "      <td>93.994</td>\n",
              "      <td>-36.4</td>\n",
              "      <td>4.857</td>\n",
              "      <td>5191.0</td>\n",
              "      <td>no</td>\n",
              "    </tr>\n",
              "    <tr>\n",
              "      <th>1</th>\n",
              "      <td>57</td>\n",
              "      <td>services</td>\n",
              "      <td>married</td>\n",
              "      <td>high.school</td>\n",
              "      <td>unknown</td>\n",
              "      <td>no</td>\n",
              "      <td>no</td>\n",
              "      <td>telephone</td>\n",
              "      <td>may</td>\n",
              "      <td>mon</td>\n",
              "      <td>...</td>\n",
              "      <td>1</td>\n",
              "      <td>999</td>\n",
              "      <td>0</td>\n",
              "      <td>nonexistent</td>\n",
              "      <td>1.1</td>\n",
              "      <td>93.994</td>\n",
              "      <td>-36.4</td>\n",
              "      <td>4.857</td>\n",
              "      <td>5191.0</td>\n",
              "      <td>no</td>\n",
              "    </tr>\n",
              "    <tr>\n",
              "      <th>2</th>\n",
              "      <td>37</td>\n",
              "      <td>services</td>\n",
              "      <td>married</td>\n",
              "      <td>high.school</td>\n",
              "      <td>no</td>\n",
              "      <td>yes</td>\n",
              "      <td>no</td>\n",
              "      <td>telephone</td>\n",
              "      <td>may</td>\n",
              "      <td>mon</td>\n",
              "      <td>...</td>\n",
              "      <td>1</td>\n",
              "      <td>999</td>\n",
              "      <td>0</td>\n",
              "      <td>nonexistent</td>\n",
              "      <td>1.1</td>\n",
              "      <td>93.994</td>\n",
              "      <td>-36.4</td>\n",
              "      <td>4.857</td>\n",
              "      <td>5191.0</td>\n",
              "      <td>no</td>\n",
              "    </tr>\n",
              "    <tr>\n",
              "      <th>3</th>\n",
              "      <td>40</td>\n",
              "      <td>admin.</td>\n",
              "      <td>married</td>\n",
              "      <td>basic.6y</td>\n",
              "      <td>no</td>\n",
              "      <td>no</td>\n",
              "      <td>no</td>\n",
              "      <td>telephone</td>\n",
              "      <td>may</td>\n",
              "      <td>mon</td>\n",
              "      <td>...</td>\n",
              "      <td>1</td>\n",
              "      <td>999</td>\n",
              "      <td>0</td>\n",
              "      <td>nonexistent</td>\n",
              "      <td>1.1</td>\n",
              "      <td>93.994</td>\n",
              "      <td>-36.4</td>\n",
              "      <td>4.857</td>\n",
              "      <td>5191.0</td>\n",
              "      <td>no</td>\n",
              "    </tr>\n",
              "    <tr>\n",
              "      <th>4</th>\n",
              "      <td>56</td>\n",
              "      <td>services</td>\n",
              "      <td>married</td>\n",
              "      <td>high.school</td>\n",
              "      <td>no</td>\n",
              "      <td>no</td>\n",
              "      <td>yes</td>\n",
              "      <td>telephone</td>\n",
              "      <td>may</td>\n",
              "      <td>mon</td>\n",
              "      <td>...</td>\n",
              "      <td>1</td>\n",
              "      <td>999</td>\n",
              "      <td>0</td>\n",
              "      <td>nonexistent</td>\n",
              "      <td>1.1</td>\n",
              "      <td>93.994</td>\n",
              "      <td>-36.4</td>\n",
              "      <td>4.857</td>\n",
              "      <td>5191.0</td>\n",
              "      <td>no</td>\n",
              "    </tr>\n",
              "  </tbody>\n",
              "</table>\n",
              "<p>5 rows × 21 columns</p>\n",
              "</div>\n",
              "    <div class=\"colab-df-buttons\">\n",
              "\n",
              "  <div class=\"colab-df-container\">\n",
              "    <button class=\"colab-df-convert\" onclick=\"convertToInteractive('df-a15aaae9-b12b-499d-a977-4736578ca006')\"\n",
              "            title=\"Convert this dataframe to an interactive table.\"\n",
              "            style=\"display:none;\">\n",
              "\n",
              "  <svg xmlns=\"http://www.w3.org/2000/svg\" height=\"24px\" viewBox=\"0 -960 960 960\">\n",
              "    <path d=\"M120-120v-720h720v720H120Zm60-500h600v-160H180v160Zm220 220h160v-160H400v160Zm0 220h160v-160H400v160ZM180-400h160v-160H180v160Zm440 0h160v-160H620v160ZM180-180h160v-160H180v160Zm440 0h160v-160H620v160Z\"/>\n",
              "  </svg>\n",
              "    </button>\n",
              "\n",
              "  <style>\n",
              "    .colab-df-container {\n",
              "      display:flex;\n",
              "      gap: 12px;\n",
              "    }\n",
              "\n",
              "    .colab-df-convert {\n",
              "      background-color: #E8F0FE;\n",
              "      border: none;\n",
              "      border-radius: 50%;\n",
              "      cursor: pointer;\n",
              "      display: none;\n",
              "      fill: #1967D2;\n",
              "      height: 32px;\n",
              "      padding: 0 0 0 0;\n",
              "      width: 32px;\n",
              "    }\n",
              "\n",
              "    .colab-df-convert:hover {\n",
              "      background-color: #E2EBFA;\n",
              "      box-shadow: 0px 1px 2px rgba(60, 64, 67, 0.3), 0px 1px 3px 1px rgba(60, 64, 67, 0.15);\n",
              "      fill: #174EA6;\n",
              "    }\n",
              "\n",
              "    .colab-df-buttons div {\n",
              "      margin-bottom: 4px;\n",
              "    }\n",
              "\n",
              "    [theme=dark] .colab-df-convert {\n",
              "      background-color: #3B4455;\n",
              "      fill: #D2E3FC;\n",
              "    }\n",
              "\n",
              "    [theme=dark] .colab-df-convert:hover {\n",
              "      background-color: #434B5C;\n",
              "      box-shadow: 0px 1px 3px 1px rgba(0, 0, 0, 0.15);\n",
              "      filter: drop-shadow(0px 1px 2px rgba(0, 0, 0, 0.3));\n",
              "      fill: #FFFFFF;\n",
              "    }\n",
              "  </style>\n",
              "\n",
              "    <script>\n",
              "      const buttonEl =\n",
              "        document.querySelector('#df-a15aaae9-b12b-499d-a977-4736578ca006 button.colab-df-convert');\n",
              "      buttonEl.style.display =\n",
              "        google.colab.kernel.accessAllowed ? 'block' : 'none';\n",
              "\n",
              "      async function convertToInteractive(key) {\n",
              "        const element = document.querySelector('#df-a15aaae9-b12b-499d-a977-4736578ca006');\n",
              "        const dataTable =\n",
              "          await google.colab.kernel.invokeFunction('convertToInteractive',\n",
              "                                                    [key], {});\n",
              "        if (!dataTable) return;\n",
              "\n",
              "        const docLinkHtml = 'Like what you see? Visit the ' +\n",
              "          '<a target=\"_blank\" href=https://colab.research.google.com/notebooks/data_table.ipynb>data table notebook</a>'\n",
              "          + ' to learn more about interactive tables.';\n",
              "        element.innerHTML = '';\n",
              "        dataTable['output_type'] = 'display_data';\n",
              "        await google.colab.output.renderOutput(dataTable, element);\n",
              "        const docLink = document.createElement('div');\n",
              "        docLink.innerHTML = docLinkHtml;\n",
              "        element.appendChild(docLink);\n",
              "      }\n",
              "    </script>\n",
              "  </div>\n",
              "\n",
              "\n",
              "<div id=\"df-333423c1-568d-429e-aed4-bb707bbb1247\">\n",
              "  <button class=\"colab-df-quickchart\" onclick=\"quickchart('df-333423c1-568d-429e-aed4-bb707bbb1247')\"\n",
              "            title=\"Suggest charts\"\n",
              "            style=\"display:none;\">\n",
              "\n",
              "<svg xmlns=\"http://www.w3.org/2000/svg\" height=\"24px\"viewBox=\"0 0 24 24\"\n",
              "     width=\"24px\">\n",
              "    <g>\n",
              "        <path d=\"M19 3H5c-1.1 0-2 .9-2 2v14c0 1.1.9 2 2 2h14c1.1 0 2-.9 2-2V5c0-1.1-.9-2-2-2zM9 17H7v-7h2v7zm4 0h-2V7h2v10zm4 0h-2v-4h2v4z\"/>\n",
              "    </g>\n",
              "</svg>\n",
              "  </button>\n",
              "\n",
              "<style>\n",
              "  .colab-df-quickchart {\n",
              "      --bg-color: #E8F0FE;\n",
              "      --fill-color: #1967D2;\n",
              "      --hover-bg-color: #E2EBFA;\n",
              "      --hover-fill-color: #174EA6;\n",
              "      --disabled-fill-color: #AAA;\n",
              "      --disabled-bg-color: #DDD;\n",
              "  }\n",
              "\n",
              "  [theme=dark] .colab-df-quickchart {\n",
              "      --bg-color: #3B4455;\n",
              "      --fill-color: #D2E3FC;\n",
              "      --hover-bg-color: #434B5C;\n",
              "      --hover-fill-color: #FFFFFF;\n",
              "      --disabled-bg-color: #3B4455;\n",
              "      --disabled-fill-color: #666;\n",
              "  }\n",
              "\n",
              "  .colab-df-quickchart {\n",
              "    background-color: var(--bg-color);\n",
              "    border: none;\n",
              "    border-radius: 50%;\n",
              "    cursor: pointer;\n",
              "    display: none;\n",
              "    fill: var(--fill-color);\n",
              "    height: 32px;\n",
              "    padding: 0;\n",
              "    width: 32px;\n",
              "  }\n",
              "\n",
              "  .colab-df-quickchart:hover {\n",
              "    background-color: var(--hover-bg-color);\n",
              "    box-shadow: 0 1px 2px rgba(60, 64, 67, 0.3), 0 1px 3px 1px rgba(60, 64, 67, 0.15);\n",
              "    fill: var(--button-hover-fill-color);\n",
              "  }\n",
              "\n",
              "  .colab-df-quickchart-complete:disabled,\n",
              "  .colab-df-quickchart-complete:disabled:hover {\n",
              "    background-color: var(--disabled-bg-color);\n",
              "    fill: var(--disabled-fill-color);\n",
              "    box-shadow: none;\n",
              "  }\n",
              "\n",
              "  .colab-df-spinner {\n",
              "    border: 2px solid var(--fill-color);\n",
              "    border-color: transparent;\n",
              "    border-bottom-color: var(--fill-color);\n",
              "    animation:\n",
              "      spin 1s steps(1) infinite;\n",
              "  }\n",
              "\n",
              "  @keyframes spin {\n",
              "    0% {\n",
              "      border-color: transparent;\n",
              "      border-bottom-color: var(--fill-color);\n",
              "      border-left-color: var(--fill-color);\n",
              "    }\n",
              "    20% {\n",
              "      border-color: transparent;\n",
              "      border-left-color: var(--fill-color);\n",
              "      border-top-color: var(--fill-color);\n",
              "    }\n",
              "    30% {\n",
              "      border-color: transparent;\n",
              "      border-left-color: var(--fill-color);\n",
              "      border-top-color: var(--fill-color);\n",
              "      border-right-color: var(--fill-color);\n",
              "    }\n",
              "    40% {\n",
              "      border-color: transparent;\n",
              "      border-right-color: var(--fill-color);\n",
              "      border-top-color: var(--fill-color);\n",
              "    }\n",
              "    60% {\n",
              "      border-color: transparent;\n",
              "      border-right-color: var(--fill-color);\n",
              "    }\n",
              "    80% {\n",
              "      border-color: transparent;\n",
              "      border-right-color: var(--fill-color);\n",
              "      border-bottom-color: var(--fill-color);\n",
              "    }\n",
              "    90% {\n",
              "      border-color: transparent;\n",
              "      border-bottom-color: var(--fill-color);\n",
              "    }\n",
              "  }\n",
              "</style>\n",
              "\n",
              "  <script>\n",
              "    async function quickchart(key) {\n",
              "      const quickchartButtonEl =\n",
              "        document.querySelector('#' + key + ' button');\n",
              "      quickchartButtonEl.disabled = true;  // To prevent multiple clicks.\n",
              "      quickchartButtonEl.classList.add('colab-df-spinner');\n",
              "      try {\n",
              "        const charts = await google.colab.kernel.invokeFunction(\n",
              "            'suggestCharts', [key], {});\n",
              "      } catch (error) {\n",
              "        console.error('Error during call to suggestCharts:', error);\n",
              "      }\n",
              "      quickchartButtonEl.classList.remove('colab-df-spinner');\n",
              "      quickchartButtonEl.classList.add('colab-df-quickchart-complete');\n",
              "    }\n",
              "    (() => {\n",
              "      let quickchartButtonEl =\n",
              "        document.querySelector('#df-333423c1-568d-429e-aed4-bb707bbb1247 button');\n",
              "      quickchartButtonEl.style.display =\n",
              "        google.colab.kernel.accessAllowed ? 'block' : 'none';\n",
              "    })();\n",
              "  </script>\n",
              "</div>\n",
              "\n",
              "    </div>\n",
              "  </div>\n"
            ],
            "application/vnd.google.colaboratory.intrinsic+json": {
              "type": "dataframe",
              "variable_name": "data"
            }
          },
          "metadata": {},
          "execution_count": 251
        }
      ]
    },
    {
      "cell_type": "markdown",
      "source": [
        "# **Data Analyzation**"
      ],
      "metadata": {
        "id": "RaxOyXreZ71G"
      }
    },
    {
      "cell_type": "code",
      "source": [
        "# Display dataset information\n",
        "print(\"Dataset Information:\")\n",
        "print(data.info())"
      ],
      "metadata": {
        "colab": {
          "base_uri": "https://localhost:8080/"
        },
        "id": "bPPkY6vSaDHH",
        "outputId": "ca4b985b-f9a7-4151-efde-840c1c8da6b1"
      },
      "execution_count": 252,
      "outputs": [
        {
          "output_type": "stream",
          "name": "stdout",
          "text": [
            "Dataset Information:\n",
            "<class 'pandas.core.frame.DataFrame'>\n",
            "RangeIndex: 41188 entries, 0 to 41187\n",
            "Data columns (total 21 columns):\n",
            " #   Column          Non-Null Count  Dtype  \n",
            "---  ------          --------------  -----  \n",
            " 0   age             41188 non-null  int64  \n",
            " 1   job             41188 non-null  object \n",
            " 2   marital         41188 non-null  object \n",
            " 3   education       41188 non-null  object \n",
            " 4   default         41188 non-null  object \n",
            " 5   housing         41188 non-null  object \n",
            " 6   loan            41188 non-null  object \n",
            " 7   contact         41188 non-null  object \n",
            " 8   month           41188 non-null  object \n",
            " 9   day_of_week     41188 non-null  object \n",
            " 10  duration        41188 non-null  int64  \n",
            " 11  campaign        41188 non-null  int64  \n",
            " 12  pdays           41188 non-null  int64  \n",
            " 13  previous        41188 non-null  int64  \n",
            " 14  poutcome        41188 non-null  object \n",
            " 15  emp.var.rate    41188 non-null  float64\n",
            " 16  cons.price.idx  41188 non-null  float64\n",
            " 17  cons.conf.idx   41188 non-null  float64\n",
            " 18  euribor3m       41188 non-null  float64\n",
            " 19  nr.employed     41188 non-null  float64\n",
            " 20  y               41188 non-null  object \n",
            "dtypes: float64(5), int64(5), object(11)\n",
            "memory usage: 6.6+ MB\n",
            "None\n"
          ]
        }
      ]
    },
    {
      "cell_type": "code",
      "source": [
        "# Identify categorical and numerical columns\n",
        "categorical_cols = data.select_dtypes(include=['object']).columns\n",
        "numerical_cols = data.select_dtypes(include=['int64', 'float64']).columns"
      ],
      "metadata": {
        "id": "UIOYxU46dcOK"
      },
      "execution_count": 253,
      "outputs": []
    },
    {
      "cell_type": "code",
      "source": [
        "# Categorical features\n",
        "print(\"\\nCategorical Features:\")\n",
        "print(categorical_cols)"
      ],
      "metadata": {
        "colab": {
          "base_uri": "https://localhost:8080/"
        },
        "id": "UrpSjwciddOB",
        "outputId": "e4644d97-fe4c-4178-dfc1-8bd00e5ba0c4"
      },
      "execution_count": 254,
      "outputs": [
        {
          "output_type": "stream",
          "name": "stdout",
          "text": [
            "\n",
            "Categorical Features:\n",
            "Index(['job', 'marital', 'education', 'default', 'housing', 'loan', 'contact',\n",
            "       'month', 'day_of_week', 'poutcome', 'y'],\n",
            "      dtype='object')\n"
          ]
        }
      ]
    },
    {
      "cell_type": "code",
      "source": [
        "# Displaying the unique values and their counts relevant to each categorical column\n",
        "for col in categorical_cols:\n",
        "    unique_values = data[col].unique()\n",
        "    value_counts = data[col].value_counts()\n",
        "    print(value_counts)\n",
        "    print(\" \")"
      ],
      "metadata": {
        "colab": {
          "base_uri": "https://localhost:8080/"
        },
        "id": "aC8rqg6fdlV6",
        "outputId": "063b7afc-cf61-44fa-889a-ac024cfa3f4d"
      },
      "execution_count": 255,
      "outputs": [
        {
          "output_type": "stream",
          "name": "stdout",
          "text": [
            "job\n",
            "admin.           10422\n",
            "blue-collar       9254\n",
            "technician        6743\n",
            "services          3969\n",
            "management        2924\n",
            "retired           1720\n",
            "entrepreneur      1456\n",
            "self-employed     1421\n",
            "housemaid         1060\n",
            "unemployed        1014\n",
            "student            875\n",
            "unknown            330\n",
            "Name: count, dtype: int64\n",
            " \n",
            "marital\n",
            "married     24928\n",
            "single      11568\n",
            "divorced     4612\n",
            "unknown        80\n",
            "Name: count, dtype: int64\n",
            " \n",
            "education\n",
            "university.degree      12168\n",
            "high.school             9515\n",
            "basic.9y                6045\n",
            "professional.course     5243\n",
            "basic.4y                4176\n",
            "basic.6y                2292\n",
            "unknown                 1731\n",
            "illiterate                18\n",
            "Name: count, dtype: int64\n",
            " \n",
            "default\n",
            "no         32588\n",
            "unknown     8597\n",
            "yes            3\n",
            "Name: count, dtype: int64\n",
            " \n",
            "housing\n",
            "yes        21576\n",
            "no         18622\n",
            "unknown      990\n",
            "Name: count, dtype: int64\n",
            " \n",
            "loan\n",
            "no         33950\n",
            "yes         6248\n",
            "unknown      990\n",
            "Name: count, dtype: int64\n",
            " \n",
            "contact\n",
            "cellular     26144\n",
            "telephone    15044\n",
            "Name: count, dtype: int64\n",
            " \n",
            "month\n",
            "may    13769\n",
            "jul     7174\n",
            "aug     6178\n",
            "jun     5318\n",
            "nov     4101\n",
            "apr     2632\n",
            "oct      718\n",
            "sep      570\n",
            "mar      546\n",
            "dec      182\n",
            "Name: count, dtype: int64\n",
            " \n",
            "day_of_week\n",
            "thu    8623\n",
            "mon    8514\n",
            "wed    8134\n",
            "tue    8090\n",
            "fri    7827\n",
            "Name: count, dtype: int64\n",
            " \n",
            "poutcome\n",
            "nonexistent    35563\n",
            "failure         4252\n",
            "success         1373\n",
            "Name: count, dtype: int64\n",
            " \n",
            "y\n",
            "no     36548\n",
            "yes     4640\n",
            "Name: count, dtype: int64\n",
            " \n"
          ]
        }
      ]
    },
    {
      "cell_type": "code",
      "source": [
        "# Displaying the total count of missing values and their respective columns which contains categorical data\n",
        "# Creating an empty list\n",
        "unknown_values = []\n",
        "\n",
        "# Checking for 'unknown' values in categorical columns\n",
        "for col in categorical_cols:\n",
        "    unknown_count = (data[col] == 'unknown').sum()\n",
        "    if unknown_count > 0:\n",
        "        unknown_values.append({'Column': col, 'Count': unknown_count})\n",
        "\n",
        "# Converting the list into a pandas DataFrame\n",
        "unknown_values_df = (\n",
        "    pd.DataFrame(unknown_values)\n",
        "    .sort_values(by='Count', ascending=False)\n",
        "    .reset_index(drop=True)\n",
        ")\n",
        "\n",
        "# Displaying the DataFrame\n",
        "print(\"\\nColumns with 'unknown' values and their counts:\")\n",
        "print()\n",
        "print(unknown_values_df)"
      ],
      "metadata": {
        "colab": {
          "base_uri": "https://localhost:8080/"
        },
        "id": "VFm9cUq8dp96",
        "outputId": "d6546763-7831-45c3-b6d3-c759c7f69157"
      },
      "execution_count": 256,
      "outputs": [
        {
          "output_type": "stream",
          "name": "stdout",
          "text": [
            "\n",
            "Columns with 'unknown' values and their counts:\n",
            "\n",
            "      Column  Count\n",
            "0    default   8597\n",
            "1  education   1731\n",
            "2    housing    990\n",
            "3       loan    990\n",
            "4        job    330\n",
            "5    marital     80\n"
          ]
        }
      ]
    },
    {
      "cell_type": "code",
      "source": [
        "# Displaying the unique values and their counts relevant to each column containing \"unknown\" values\n",
        "for _, row in unknown_values_df.iterrows():\n",
        "    col = row['Column']\n",
        "    unique_values = data[col].unique()\n",
        "    value_counts = data[col].value_counts()\n",
        "    print(value_counts)\n",
        "    print(\" \")"
      ],
      "metadata": {
        "colab": {
          "base_uri": "https://localhost:8080/"
        },
        "id": "032wCO5zdtdM",
        "outputId": "b9aa92c7-bf90-4dec-b201-b63255121ca5"
      },
      "execution_count": 257,
      "outputs": [
        {
          "output_type": "stream",
          "name": "stdout",
          "text": [
            "default\n",
            "no         32588\n",
            "unknown     8597\n",
            "yes            3\n",
            "Name: count, dtype: int64\n",
            " \n",
            "education\n",
            "university.degree      12168\n",
            "high.school             9515\n",
            "basic.9y                6045\n",
            "professional.course     5243\n",
            "basic.4y                4176\n",
            "basic.6y                2292\n",
            "unknown                 1731\n",
            "illiterate                18\n",
            "Name: count, dtype: int64\n",
            " \n",
            "housing\n",
            "yes        21576\n",
            "no         18622\n",
            "unknown      990\n",
            "Name: count, dtype: int64\n",
            " \n",
            "loan\n",
            "no         33950\n",
            "yes         6248\n",
            "unknown      990\n",
            "Name: count, dtype: int64\n",
            " \n",
            "job\n",
            "admin.           10422\n",
            "blue-collar       9254\n",
            "technician        6743\n",
            "services          3969\n",
            "management        2924\n",
            "retired           1720\n",
            "entrepreneur      1456\n",
            "self-employed     1421\n",
            "housemaid         1060\n",
            "unemployed        1014\n",
            "student            875\n",
            "unknown            330\n",
            "Name: count, dtype: int64\n",
            " \n",
            "marital\n",
            "married     24928\n",
            "single      11568\n",
            "divorced     4612\n",
            "unknown        80\n",
            "Name: count, dtype: int64\n",
            " \n"
          ]
        }
      ]
    },
    {
      "cell_type": "code",
      "source": [
        "# Numerical features\n",
        "print(\"\\nNumerical Features:\")\n",
        "print(numerical_cols)"
      ],
      "metadata": {
        "colab": {
          "base_uri": "https://localhost:8080/"
        },
        "id": "O7O3qXm2dwvc",
        "outputId": "5ed03a07-4e28-4b23-b185-1799ab34a8ed"
      },
      "execution_count": 258,
      "outputs": [
        {
          "output_type": "stream",
          "name": "stdout",
          "text": [
            "\n",
            "Numerical Features:\n",
            "Index(['age', 'duration', 'campaign', 'pdays', 'previous', 'emp.var.rate',\n",
            "       'cons.price.idx', 'cons.conf.idx', 'euribor3m', 'nr.employed'],\n",
            "      dtype='object')\n"
          ]
        }
      ]
    },
    {
      "cell_type": "code",
      "source": [
        "# Displaying the unique values and their count in the numerical columns\n",
        "for col in numerical_cols:\n",
        "    unique_values = data[col].unique()\n",
        "    value_counts = data[col].value_counts()\n",
        "    print(value_counts)\n",
        "    print(\" \")"
      ],
      "metadata": {
        "colab": {
          "base_uri": "https://localhost:8080/"
        },
        "id": "xC0qV4Gxt_G2",
        "outputId": "bb61d5f3-6665-4593-ba0e-1709b59dc39e"
      },
      "execution_count": 259,
      "outputs": [
        {
          "output_type": "stream",
          "name": "stdout",
          "text": [
            "age\n",
            "31    1947\n",
            "32    1846\n",
            "33    1833\n",
            "36    1780\n",
            "35    1759\n",
            "      ... \n",
            "89       2\n",
            "91       2\n",
            "94       1\n",
            "87       1\n",
            "95       1\n",
            "Name: count, Length: 78, dtype: int64\n",
            " \n",
            "duration\n",
            "90      170\n",
            "85      170\n",
            "136     168\n",
            "73      167\n",
            "124     164\n",
            "       ... \n",
            "1569      1\n",
            "1053      1\n",
            "1263      1\n",
            "1169      1\n",
            "1868      1\n",
            "Name: count, Length: 1544, dtype: int64\n",
            " \n",
            "campaign\n",
            "1     17642\n",
            "2     10570\n",
            "3      5341\n",
            "4      2651\n",
            "5      1599\n",
            "6       979\n",
            "7       629\n",
            "8       400\n",
            "9       283\n",
            "10      225\n",
            "11      177\n",
            "12      125\n",
            "13       92\n",
            "14       69\n",
            "17       58\n",
            "16       51\n",
            "15       51\n",
            "18       33\n",
            "20       30\n",
            "19       26\n",
            "21       24\n",
            "22       17\n",
            "23       16\n",
            "24       15\n",
            "27       11\n",
            "29       10\n",
            "28        8\n",
            "26        8\n",
            "25        8\n",
            "31        7\n",
            "30        7\n",
            "35        5\n",
            "32        4\n",
            "33        4\n",
            "34        3\n",
            "42        2\n",
            "40        2\n",
            "43        2\n",
            "56        1\n",
            "39        1\n",
            "41        1\n",
            "37        1\n",
            "Name: count, dtype: int64\n",
            " \n",
            "pdays\n",
            "999    39673\n",
            "3        439\n",
            "6        412\n",
            "4        118\n",
            "9         64\n",
            "2         61\n",
            "7         60\n",
            "12        58\n",
            "10        52\n",
            "5         46\n",
            "13        36\n",
            "11        28\n",
            "1         26\n",
            "15        24\n",
            "14        20\n",
            "8         18\n",
            "0         15\n",
            "16        11\n",
            "17         8\n",
            "18         7\n",
            "22         3\n",
            "19         3\n",
            "21         2\n",
            "25         1\n",
            "26         1\n",
            "27         1\n",
            "20         1\n",
            "Name: count, dtype: int64\n",
            " \n",
            "previous\n",
            "0    35563\n",
            "1     4561\n",
            "2      754\n",
            "3      216\n",
            "4       70\n",
            "5       18\n",
            "6        5\n",
            "7        1\n",
            "Name: count, dtype: int64\n",
            " \n",
            "emp.var.rate\n",
            " 1.4    16234\n",
            "-1.8     9184\n",
            " 1.1     7763\n",
            "-0.1     3683\n",
            "-2.9     1663\n",
            "-3.4     1071\n",
            "-1.7      773\n",
            "-1.1      635\n",
            "-3.0      172\n",
            "-0.2       10\n",
            "Name: count, dtype: int64\n",
            " \n",
            "cons.price.idx\n",
            "93.994    7763\n",
            "93.918    6685\n",
            "92.893    5794\n",
            "93.444    5175\n",
            "94.465    4374\n",
            "93.200    3616\n",
            "93.075    2458\n",
            "92.201     770\n",
            "92.963     715\n",
            "92.431     447\n",
            "92.649     357\n",
            "94.215     311\n",
            "94.199     303\n",
            "92.843     282\n",
            "92.379     267\n",
            "93.369     264\n",
            "94.027     233\n",
            "94.055     229\n",
            "93.876     212\n",
            "94.601     204\n",
            "92.469     178\n",
            "93.749     174\n",
            "92.713     172\n",
            "94.767     128\n",
            "93.798      67\n",
            "92.756      10\n",
            "Name: count, dtype: int64\n",
            " \n",
            "cons.conf.idx\n",
            "-36.4    7763\n",
            "-42.7    6685\n",
            "-46.2    5794\n",
            "-36.1    5175\n",
            "-41.8    4374\n",
            "-42.0    3616\n",
            "-47.1    2458\n",
            "-31.4     770\n",
            "-40.8     715\n",
            "-26.9     447\n",
            "-30.1     357\n",
            "-40.3     311\n",
            "-37.5     303\n",
            "-50.0     282\n",
            "-29.8     267\n",
            "-34.8     264\n",
            "-38.3     233\n",
            "-39.8     229\n",
            "-40.0     212\n",
            "-49.5     204\n",
            "-33.6     178\n",
            "-34.6     174\n",
            "-33.0     172\n",
            "-50.8     128\n",
            "-40.4      67\n",
            "-45.9      10\n",
            "Name: count, dtype: int64\n",
            " \n",
            "euribor3m\n",
            "4.857    2868\n",
            "4.962    2613\n",
            "4.963    2487\n",
            "4.961    1902\n",
            "4.856    1210\n",
            "         ... \n",
            "3.853       1\n",
            "3.901       1\n",
            "0.969       1\n",
            "0.956       1\n",
            "3.669       1\n",
            "Name: count, Length: 316, dtype: int64\n",
            " \n",
            "nr.employed\n",
            "5228.1    16234\n",
            "5099.1     8534\n",
            "5191.0     7763\n",
            "5195.8     3683\n",
            "5076.2     1663\n",
            "5017.5     1071\n",
            "4991.6      773\n",
            "5008.7      650\n",
            "4963.6      635\n",
            "5023.5      172\n",
            "5176.3       10\n",
            "Name: count, dtype: int64\n",
            " \n"
          ]
        }
      ]
    },
    {
      "cell_type": "code",
      "source": [
        "# Visualizing the distribution of the target variable\n",
        "sns.countplot(data=data, x='y')\n",
        "plt.title('Target Variable Distribution')\n",
        "plt.show()"
      ],
      "metadata": {
        "colab": {
          "base_uri": "https://localhost:8080/",
          "height": 472
        },
        "id": "UMoudOMDdyOd",
        "outputId": "b432acd2-6105-4d3b-b3bb-e9b3a8c3797c"
      },
      "execution_count": 260,
      "outputs": [
        {
          "output_type": "display_data",
          "data": {
            "text/plain": [
              "<Figure size 640x480 with 1 Axes>"
            ],
            "image/png": "[encoded data removed]"
          },
          "metadata": {}
        }
      ]
    },
    {
      "cell_type": "code",
      "source": [
        "# Select only numerical columns\n",
        "numerical_cols = data.select_dtypes(include=['float64', 'int64'])\n",
        "\n",
        "# Compute the correlation matrix\n",
        "corr = numerical_cols.corr()\n",
        "\n",
        "# Plot the heatmap\n",
        "plt.figure(figsize=(10, 8))\n",
        "sns.heatmap(corr, annot=True, cmap='coolwarm', fmt=\".2f\", linewidths=0.5)\n",
        "plt.title('Feature Correlation')\n",
        "plt.show()"
      ],
      "metadata": {
        "colab": {
          "base_uri": "https://localhost:8080/",
          "height": 781
        },
        "id": "QtPQitCgd1KF",
        "outputId": "845511fb-71af-43df-bf74-0517a3e12827"
      },
      "execution_count": 261,
      "outputs": [
        {
          "output_type": "display_data",
          "data": {
            "text/plain": [
              "<Figure size 1000x800 with 2 Axes>"
            ],
            "image/png": "[encoded data removed]"
          },
          "metadata": {}
        }
      ]
    },
    {
      "cell_type": "code",
      "source": [
        "# Visualizing the distribution of numerical columns\n",
        "# Select numerical columns\n",
        "numerical_cols = data.select_dtypes(include=['int64', 'float64']).columns\n",
        "\n",
        "# Plotting histograms for all numerical columns\n",
        "data[numerical_cols].hist(figsize=(15, 10), bins=20, edgecolor='black')\n",
        "plt.suptitle('Distribution of Numerical Features')\n",
        "plt.tight_layout()\n",
        "plt.show()"
      ],
      "metadata": {
        "colab": {
          "base_uri": "https://localhost:8080/",
          "height": 952
        },
        "id": "pOTQgmvOeI-u",
        "outputId": "265e9091-f056-419c-8d19-4ca827bcb5f6"
      },
      "execution_count": 262,
      "outputs": [
        {
          "output_type": "display_data",
          "data": {
            "text/plain": [
              "<Figure size 1500x1000 with 12 Axes>"
            ],
            "image/png": "[encoded data removed]"
          },
          "metadata": {}
        }
      ]
    },
    {
      "cell_type": "code",
      "source": [
        "# Analyzing each column individually\n",
        "def analyze_columns(data):\n",
        "    # Create a list to store summary rows\n",
        "    summary_rows = []\n",
        "\n",
        "    for col in data.columns:\n",
        "        unique_values = data[col].unique()\n",
        "        n_unique = len(unique_values)\n",
        "        missing_count = data[col].isnull().sum()\n",
        "        examples = unique_values[:5] if n_unique > 5 else unique_values\n",
        "\n",
        "        # Append a dictionary to the list\n",
        "        summary_rows.append({\n",
        "            \"Column\": col,\n",
        "            \"Data Type\": data[col].dtype,\n",
        "            \"Unique Values\": n_unique,\n",
        "            \"Missing Values\": missing_count,\n",
        "            \"Examples\": examples\n",
        "        })\n",
        "\n",
        "    # Combine rows into a DataFrame\n",
        "    summary = pd.DataFrame(summary_rows)\n",
        "    return summary\n",
        "\n",
        "# Perform column-wise analysis\n",
        "column_summary = analyze_columns(data)\n",
        "\n",
        "# Analyze individual columns\n",
        "for col in data.columns:\n",
        "    print(f\"\\nAnalyzing Column: {col}\")\n",
        "    print(f\"Data Type: {data[col].dtype}\")\n",
        "    print(f\"Unique Values: {data[col].nunique()}\")\n",
        "    print(f\"Missing Values: {data[col].isnull().sum()}\")\n",
        "    print(f\"Top 5 Most Frequent Values:\\n{data[col].value_counts().head()}\")"
      ],
      "metadata": {
        "colab": {
          "base_uri": "https://localhost:8080/"
        },
        "id": "IHPf0yAkee7P",
        "outputId": "cb1aeb12-61a4-4b9a-b15b-ff5cbc595cd3"
      },
      "execution_count": 263,
      "outputs": [
        {
          "output_type": "stream",
          "name": "stdout",
          "text": [
            "\n",
            "Analyzing Column: age\n",
            "Data Type: int64\n",
            "Unique Values: 78\n",
            "Missing Values: 0\n",
            "Top 5 Most Frequent Values:\n",
            "age\n",
            "31    1947\n",
            "32    1846\n",
            "33    1833\n",
            "36    1780\n",
            "35    1759\n",
            "Name: count, dtype: int64\n",
            "\n",
            "Analyzing Column: job\n",
            "Data Type: object\n",
            "Unique Values: 12\n",
            "Missing Values: 0\n",
            "Top 5 Most Frequent Values:\n",
            "job\n",
            "admin.         10422\n",
            "blue-collar     9254\n",
            "technician      6743\n",
            "services        3969\n",
            "management      2924\n",
            "Name: count, dtype: int64\n",
            "\n",
            "Analyzing Column: marital\n",
            "Data Type: object\n",
            "Unique Values: 4\n",
            "Missing Values: 0\n",
            "Top 5 Most Frequent Values:\n",
            "marital\n",
            "married     24928\n",
            "single      11568\n",
            "divorced     4612\n",
            "unknown        80\n",
            "Name: count, dtype: int64\n",
            "\n",
            "Analyzing Column: education\n",
            "Data Type: object\n",
            "Unique Values: 8\n",
            "Missing Values: 0\n",
            "Top 5 Most Frequent Values:\n",
            "education\n",
            "university.degree      12168\n",
            "high.school             9515\n",
            "basic.9y                6045\n",
            "professional.course     5243\n",
            "basic.4y                4176\n",
            "Name: count, dtype: int64\n",
            "\n",
            "Analyzing Column: default\n",
            "Data Type: object\n",
            "Unique Values: 3\n",
            "Missing Values: 0\n",
            "Top 5 Most Frequent Values:\n",
            "default\n",
            "no         32588\n",
            "unknown     8597\n",
            "yes            3\n",
            "Name: count, dtype: int64\n",
            "\n",
            "Analyzing Column: housing\n",
            "Data Type: object\n",
            "Unique Values: 3\n",
            "Missing Values: 0\n",
            "Top 5 Most Frequent Values:\n",
            "housing\n",
            "yes        21576\n",
            "no         18622\n",
            "unknown      990\n",
            "Name: count, dtype: int64\n",
            "\n",
            "Analyzing Column: loan\n",
            "Data Type: object\n",
            "Unique Values: 3\n",
            "Missing Values: 0\n",
            "Top 5 Most Frequent Values:\n",
            "loan\n",
            "no         33950\n",
            "yes         6248\n",
            "unknown      990\n",
            "Name: count, dtype: int64\n",
            "\n",
            "Analyzing Column: contact\n",
            "Data Type: object\n",
            "Unique Values: 2\n",
            "Missing Values: 0\n",
            "Top 5 Most Frequent Values:\n",
            "contact\n",
            "cellular     26144\n",
            "telephone    15044\n",
            "Name: count, dtype: int64\n",
            "\n",
            "Analyzing Column: month\n",
            "Data Type: object\n",
            "Unique Values: 10\n",
            "Missing Values: 0\n",
            "Top 5 Most Frequent Values:\n",
            "month\n",
            "may    13769\n",
            "jul     7174\n",
            "aug     6178\n",
            "jun     5318\n",
            "nov     4101\n",
            "Name: count, dtype: int64\n",
            "\n",
            "Analyzing Column: day_of_week\n",
            "Data Type: object\n",
            "Unique Values: 5\n",
            "Missing Values: 0\n",
            "Top 5 Most Frequent Values:\n",
            "day_of_week\n",
            "thu    8623\n",
            "mon    8514\n",
            "wed    8134\n",
            "tue    8090\n",
            "fri    7827\n",
            "Name: count, dtype: int64\n",
            "\n",
            "Analyzing Column: duration\n",
            "Data Type: int64\n",
            "Unique Values: 1544\n",
            "Missing Values: 0\n",
            "Top 5 Most Frequent Values:\n",
            "duration\n",
            "90     170\n",
            "85     170\n",
            "136    168\n",
            "73     167\n",
            "124    164\n",
            "Name: count, dtype: int64\n",
            "\n",
            "Analyzing Column: campaign\n",
            "Data Type: int64\n",
            "Unique Values: 42\n",
            "Missing Values: 0\n",
            "Top 5 Most Frequent Values:\n",
            "campaign\n",
            "1    17642\n",
            "2    10570\n",
            "3     5341\n",
            "4     2651\n",
            "5     1599\n",
            "Name: count, dtype: int64\n",
            "\n",
            "Analyzing Column: pdays\n",
            "Data Type: int64\n",
            "Unique Values: 27\n",
            "Missing Values: 0\n",
            "Top 5 Most Frequent Values:\n",
            "pdays\n",
            "999    39673\n",
            "3        439\n",
            "6        412\n",
            "4        118\n",
            "9         64\n",
            "Name: count, dtype: int64\n",
            "\n",
            "Analyzing Column: previous\n",
            "Data Type: int64\n",
            "Unique Values: 8\n",
            "Missing Values: 0\n",
            "Top 5 Most Frequent Values:\n",
            "previous\n",
            "0    35563\n",
            "1     4561\n",
            "2      754\n",
            "3      216\n",
            "4       70\n",
            "Name: count, dtype: int64\n",
            "\n",
            "Analyzing Column: poutcome\n",
            "Data Type: object\n",
            "Unique Values: 3\n",
            "Missing Values: 0\n",
            "Top 5 Most Frequent Values:\n",
            "poutcome\n",
            "nonexistent    35563\n",
            "failure         4252\n",
            "success         1373\n",
            "Name: count, dtype: int64\n",
            "\n",
            "Analyzing Column: emp.var.rate\n",
            "Data Type: float64\n",
            "Unique Values: 10\n",
            "Missing Values: 0\n",
            "Top 5 Most Frequent Values:\n",
            "emp.var.rate\n",
            " 1.4    16234\n",
            "-1.8     9184\n",
            " 1.1     7763\n",
            "-0.1     3683\n",
            "-2.9     1663\n",
            "Name: count, dtype: int64\n",
            "\n",
            "Analyzing Column: cons.price.idx\n",
            "Data Type: float64\n",
            "Unique Values: 26\n",
            "Missing Values: 0\n",
            "Top 5 Most Frequent Values:\n",
            "cons.price.idx\n",
            "93.994    7763\n",
            "93.918    6685\n",
            "92.893    5794\n",
            "93.444    5175\n",
            "94.465    4374\n",
            "Name: count, dtype: int64\n",
            "\n",
            "Analyzing Column: cons.conf.idx\n",
            "Data Type: float64\n",
            "Unique Values: 26\n",
            "Missing Values: 0\n",
            "Top 5 Most Frequent Values:\n",
            "cons.conf.idx\n",
            "-36.4    7763\n",
            "-42.7    6685\n",
            "-46.2    5794\n",
            "-36.1    5175\n",
            "-41.8    4374\n",
            "Name: count, dtype: int64\n",
            "\n",
            "Analyzing Column: euribor3m\n",
            "Data Type: float64\n",
            "Unique Values: 316\n",
            "Missing Values: 0\n",
            "Top 5 Most Frequent Values:\n",
            "euribor3m\n",
            "4.857    2868\n",
            "4.962    2613\n",
            "4.963    2487\n",
            "4.961    1902\n",
            "4.856    1210\n",
            "Name: count, dtype: int64\n",
            "\n",
            "Analyzing Column: nr.employed\n",
            "Data Type: float64\n",
            "Unique Values: 11\n",
            "Missing Values: 0\n",
            "Top 5 Most Frequent Values:\n",
            "nr.employed\n",
            "5228.1    16234\n",
            "5099.1     8534\n",
            "5191.0     7763\n",
            "5195.8     3683\n",
            "5076.2     1663\n",
            "Name: count, dtype: int64\n",
            "\n",
            "Analyzing Column: y\n",
            "Data Type: object\n",
            "Unique Values: 2\n",
            "Missing Values: 0\n",
            "Top 5 Most Frequent Values:\n",
            "y\n",
            "no     36548\n",
            "yes     4640\n",
            "Name: count, dtype: int64\n"
          ]
        }
      ]
    },
    {
      "cell_type": "markdown",
      "source": [
        "# **Data Preprocessing**"
      ],
      "metadata": {
        "id": "kV7ERHXIek6x"
      }
    },
    {
      "cell_type": "markdown",
      "source": [
        "### **Cleaning the dataset**"
      ],
      "metadata": {
        "id": "mslG7U8fxDC8"
      }
    },
    {
      "cell_type": "code",
      "source": [
        "# Step 1: Removing whitespaces from object type columns\n",
        "object_columns = data.select_dtypes(include=['object']).columns\n",
        "data[object_columns] = data[object_columns].apply(lambda x: x.str.strip())"
      ],
      "metadata": {
        "id": "he1vBURoeket"
      },
      "execution_count": 264,
      "outputs": []
    },
    {
      "cell_type": "code",
      "source": [
        "# Step 2: Removing unnecessary full stops(\".\") from the 'job' column\n",
        "data['job'] = data['job'].apply(lambda x: x.replace('.', '') if isinstance(x, str) else x)"
      ],
      "metadata": {
        "id": "9-IzkcVAxSMK"
      },
      "execution_count": 265,
      "outputs": []
    },
    {
      "cell_type": "code",
      "source": [
        "# Step 3: Removing duplicates values\n",
        "print(f\"Initial dataset shape: {data.shape}\")\n",
        "data = data.drop_duplicates()\n",
        "print(f\"Shape after removing duplicates: {data.shape}\")"
      ],
      "metadata": {
        "id": "1bp96XxyxZmc",
        "colab": {
          "base_uri": "https://localhost:8080/"
        },
        "outputId": "4eb04de8-7613-4760-ffd7-b24f09dd3846"
      },
      "execution_count": 266,
      "outputs": [
        {
          "output_type": "stream",
          "name": "stdout",
          "text": [
            "Initial dataset shape: (41188, 21)\n",
            "Shape after removing duplicates: (41176, 21)\n"
          ]
        }
      ]
    },
    {
      "cell_type": "markdown",
      "source": [
        "### **Handling \"unknown\" values**"
      ],
      "metadata": {
        "id": "c3jmIk2Bxfiy"
      }
    },
    {
      "cell_type": "code",
      "source": [
        "# step 4: Handling \"unknown\" values in the categorical columns\n",
        "\n",
        "# Categorical columns to specifically handle with the mode\n",
        "columns_to_handle_with_mode = ['marital', 'default', 'housing', 'loan']"
      ],
      "metadata": {
        "id": "ShKeinckxdnV"
      },
      "execution_count": 267,
      "outputs": []
    },
    {
      "cell_type": "code",
      "source": [
        "# step 5: Replacing \"unknown\" with NaN for imputation\n",
        "data[columns_to_handle_with_mode] = data[columns_to_handle_with_mode].replace('unknown', np.nan)"
      ],
      "metadata": {
        "id": "M8ccUFmsx3Bw"
      },
      "execution_count": 268,
      "outputs": []
    },
    {
      "cell_type": "markdown",
      "source": [
        "**Replacing the missing (\"unknown values changed to NaN for imputation\") data contained within the \"loan\" column with the mode (\"no\") since the mode represents more than 80% of this column this is considered as the most optimal choice to handle those missing values. Additionally, missing values in the columns, martial and housing also replaced with the mode since more than 60% of those columns also consists of the mode and those columns has comparably less number of missing values.**"
      ],
      "metadata": {
        "id": "rRCVakPjx95N"
      }
    },
    {
      "cell_type": "code",
      "source": [
        "# step 6: Replacing NaN with the mode (most frequent value) in the specified columns\n",
        "for col in columns_to_handle_with_mode:\n",
        "    mode_value = data[col].mode()[0]\n",
        "    data[col] = data[col].fillna(mode_value)"
      ],
      "metadata": {
        "id": "fJf4zl23yCIr"
      },
      "execution_count": 269,
      "outputs": []
    },
    {
      "cell_type": "code",
      "source": [
        "# Verifying the changes and checking for the columns which contain 'unknown' values\n",
        "print(\"\\nColumns with 'unknown' values and their counts:\\n\")\n",
        "for _, row in unknown_values_df.drop_duplicates(subset='Column').iterrows():\n",
        "    col = row['Column']\n",
        "    # Count the number of \"unknown\" values in the column\n",
        "    unknown_count = data[col].str.contains('unknown', case=False, na=False).sum()\n",
        "    if unknown_count > 0:\n",
        "        print(f\"{col} : {unknown_count}\")"
      ],
      "metadata": {
        "id": "nKJqoNc-yGbb",
        "colab": {
          "base_uri": "https://localhost:8080/"
        },
        "outputId": "4bdea9ef-cce7-4651-835c-3be70d4149ab"
      },
      "execution_count": 270,
      "outputs": [
        {
          "output_type": "stream",
          "name": "stdout",
          "text": [
            "\n",
            "Columns with 'unknown' values and their counts:\n",
            "\n",
            "education : 1730\n",
            "job : 330\n"
          ]
        }
      ]
    },
    {
      "cell_type": "markdown",
      "source": [
        "**Considering the missing values in the columns, \"job\" and \"education\" as a seperate category during the encoding process**"
      ],
      "metadata": {
        "id": "i9aE1506yMNb"
      }
    },
    {
      "cell_type": "markdown",
      "source": [
        "**Handling missing values in the numerical columns**"
      ],
      "metadata": {
        "id": "NROeW4PVyQtG"
      }
    },
    {
      "cell_type": "code",
      "source": [
        "# step 7: Checking for missing values in numerical columns\n",
        "missing_info = {}\n",
        "\n",
        "for col in numerical_cols:\n",
        "    missing_count = data[col].isna().sum()\n",
        "    if missing_count > 0:\n",
        "        missing_info[col] = missing_count\n",
        "        # Replacing the missing values in the numerical columns with the median\n",
        "        median_value = data[col].median()\n",
        "        data[col].fillna(median_value, inplace=True)\n",
        "\n",
        "if missing_info:\n",
        "    print(\"Missing values found in the following numerical columns:\")\n",
        "    for col, count in missing_info.items():\n",
        "        print(f\"Column '{col}': {count} missing value(s).\")\n",
        "else:\n",
        "    print(\"No missing values found in the numerical columns.\")"
      ],
      "metadata": {
        "id": "eqa9tlT5yUgK",
        "colab": {
          "base_uri": "https://localhost:8080/"
        },
        "outputId": "2ee7a0bc-0a55-460a-ef88-063ac9ca9005"
      },
      "execution_count": 271,
      "outputs": [
        {
          "output_type": "stream",
          "name": "stdout",
          "text": [
            "No missing values found in the numerical columns.\n"
          ]
        }
      ]
    },
    {
      "cell_type": "markdown",
      "source": [
        "# **Data Encoding**"
      ],
      "metadata": {
        "id": "bIPzuuQPzhwD"
      }
    },
    {
      "cell_type": "markdown",
      "source": [
        "**Encoding the non-ordinal categorical variables using one-hot encoding**"
      ],
      "metadata": {
        "id": "fPCrP7Mo124G"
      }
    },
    {
      "cell_type": "code",
      "source": [
        "# Step 8: Encoding the categorical colums\n",
        "\n",
        "# One-hot encoding for non-ordinal categorical variables\n",
        "non_ordinal_cols = ['job', 'marital', 'contact', 'poutcome', 'month', 'day_of_week']\n",
        "data = pd.get_dummies(data, columns=non_ordinal_cols, drop_first=True)"
      ],
      "metadata": {
        "id": "1ghQC0yC1-wN"
      },
      "execution_count": 272,
      "outputs": []
    },
    {
      "cell_type": "markdown",
      "source": [
        "**Encoding the ordinal categorical variables using labeled encoding**"
      ],
      "metadata": {
        "id": "4Q7hbTH32QNi"
      }
    },
    {
      "cell_type": "code",
      "source": [
        "# Updated Label Encoding Map\n",
        "label_encoding_map = {\n",
        "    'default': {'no': 0, 'yes': 1},\n",
        "    'education': {\n",
        "       'illiterate': 1, 'basic.4y': 2, 'basic.6y': 3, 'basic.9y': 4, 'high.school': 5, 'professional.course': 6, 'university.degree': 7, 'unknown': 0\n",
        "    },\n",
        "    'housing': {'yes': 0, 'no': 1},\n",
        "    'loan': {'no': 0, 'yes': 1},\n",
        "}\n",
        "\n",
        "# Apply label encoding\n",
        "for column, mapping in label_encoding_map.items():\n",
        "    data[column] = data[column].map(mapping)\n",
        "\n",
        "# Display the first few rows to verify encoding\n",
        "print(data.head())"
      ],
      "metadata": {
        "id": "yfGsWQLO2YbP",
        "colab": {
          "base_uri": "https://localhost:8080/"
        },
        "outputId": "8360b29a-6de3-4ddf-fbac-471ef3e1721a"
      },
      "execution_count": 273,
      "outputs": [
        {
          "output_type": "stream",
          "name": "stdout",
          "text": [
            "   age  education  default  housing  loan  duration  campaign  pdays  \\\n",
            "0   56          2        0        1     0       261         1    999   \n",
            "1   57          5        0        1     0       149         1    999   \n",
            "2   37          5        0        0     0       226         1    999   \n",
            "3   40          3        0        1     0       151         1    999   \n",
            "4   56          5        0        1     1       307         1    999   \n",
            "\n",
            "   previous  emp.var.rate  ...  month_jun  month_mar  month_may  month_nov  \\\n",
            "0         0           1.1  ...      False      False       True      False   \n",
            "1         0           1.1  ...      False      False       True      False   \n",
            "2         0           1.1  ...      False      False       True      False   \n",
            "3         0           1.1  ...      False      False       True      False   \n",
            "4         0           1.1  ...      False      False       True      False   \n",
            "\n",
            "  month_oct  month_sep  day_of_week_mon  day_of_week_thu  day_of_week_tue  \\\n",
            "0     False      False             True            False            False   \n",
            "1     False      False             True            False            False   \n",
            "2     False      False             True            False            False   \n",
            "3     False      False             True            False            False   \n",
            "4     False      False             True            False            False   \n",
            "\n",
            "   day_of_week_wed  \n",
            "0            False  \n",
            "1            False  \n",
            "2            False  \n",
            "3            False  \n",
            "4            False  \n",
            "\n",
            "[5 rows x 44 columns]\n"
          ]
        }
      ]
    },
    {
      "cell_type": "markdown",
      "source": [
        "**Excluding the \"duration\" feature to avoid data leakage, as it directly depends on the outcome**"
      ],
      "metadata": {
        "id": "x1Do6vbi2fKk"
      }
    },
    {
      "cell_type": "code",
      "source": [
        "# Excluding the 'duration' feature for realistic predictive modeling\n",
        "data = data.drop(columns=['duration'])"
      ],
      "metadata": {
        "id": "Y-3hzGDZ2eV8"
      },
      "execution_count": 274,
      "outputs": []
    },
    {
      "cell_type": "markdown",
      "source": [
        "**Excluding the \"default\" column since one case (\" no \") dominates more than 90% of that column**"
      ],
      "metadata": {
        "id": "PRMbAhcX2vlZ"
      }
    },
    {
      "cell_type": "code",
      "source": [
        "# Excluding the 'default' column since more than 90% of the data in the column is dominated by the value \"no\"\n",
        "data = data.drop(columns=['default'])"
      ],
      "metadata": {
        "id": "0Wlo3X3q23SZ"
      },
      "execution_count": 275,
      "outputs": []
    },
    {
      "cell_type": "code",
      "source": [
        "# Step 9: Scaling numerical features\n",
        "numerical_cols = [\n",
        "    'age', 'campaign', 'previous', 'emp.var.rate',\n",
        "    'cons.price.idx', 'cons.conf.idx', 'euribor3m', 'nr.employed'\n",
        "]\n",
        "\n",
        "scaler = StandardScaler()\n",
        "data[numerical_cols] = scaler.fit_transform(data[numerical_cols])"
      ],
      "metadata": {
        "id": "ZRHcAsQW4Zon"
      },
      "execution_count": 276,
      "outputs": []
    },
    {
      "cell_type": "code",
      "source": [
        "# Step 10: Feature Engineering\n",
        "# Creating an additional column by combing the columns 'pdays' and 'previous'\n",
        "data['contact_score'] = data.apply(lambda row: (1 / (row['pdays'] + 1)) * row['previous'] if row['pdays'] != 999 else 0, axis=1)"
      ],
      "metadata": {
        "id": "xd53DTavvlUW"
      },
      "execution_count": 277,
      "outputs": []
    },
    {
      "cell_type": "markdown",
      "source": [
        "**Excluding the 'pdays' and the 'previous' features since an additional feature called the 'contact_score' is created by combining them**"
      ],
      "metadata": {
        "id": "QJ40FQ0PwF1K"
      }
    },
    {
      "cell_type": "code",
      "source": [
        "# Excluding the 'pdays' and the 'previous' columns\n",
        "data = data.drop(columns=['pdays', 'previous'])"
      ],
      "metadata": {
        "id": "rG8mZ9kmwREo"
      },
      "execution_count": 278,
      "outputs": []
    },
    {
      "cell_type": "code",
      "source": [
        "# Step 11: Encoding the target variable (y)\n",
        "data['y'] = data['y'].map({'yes': 1, 'no': 0})"
      ],
      "metadata": {
        "id": "x9wUENbYS2aP"
      },
      "execution_count": 279,
      "outputs": []
    },
    {
      "cell_type": "markdown",
      "source": [
        "**Since 'emp.var.rate' and 'nr.employed' columns have high correlation which is 0.91. This will lead into multicollinearity in the datset. In order to avoid this one column from these two should be dropped. The column which is being dropped is selected by considering the correlations of the columns to the 'y' variable**"
      ],
      "metadata": {
        "id": "8Bdrh8FwBkV2"
      }
    },
    {
      "cell_type": "code",
      "source": [
        "# Step 12: Feature Selection\n",
        "# Checking the correlation of the 'emp.var.rate' and the 'nr.employed' to the target variable\n",
        "correlation_emp_var_rate = data['emp.var.rate'].corr(data['y'])\n",
        "correlation_nr_employed = data['nr.employed'].corr(data['y'])\n",
        "\n",
        "print(\"Correlation with 'y' for 'emp.var.rate':\", correlation_emp_var_rate)\n",
        "print(\"Correlation with 'y' for 'nr.employed':\", correlation_nr_employed)"
      ],
      "metadata": {
        "colab": {
          "base_uri": "https://localhost:8080/"
        },
        "id": "-_PZyngnBjik",
        "outputId": "9a9c0d8d-ae90-4806-c8c0-0f9627b48165"
      },
      "execution_count": 280,
      "outputs": [
        {
          "output_type": "stream",
          "name": "stdout",
          "text": [
            "Correlation with 'y' for 'emp.var.rate': -0.298288504246207\n",
            "Correlation with 'y' for 'nr.employed': -0.35466901538267304\n"
          ]
        }
      ]
    },
    {
      "cell_type": "markdown",
      "source": [
        "**Since both the columns have a moderate amount of correlation with the target variable when considering the domain knowledge of both the columns it is approriate considering dropping the 'emp.var.rate' column since the 'nr.employed' reflect economic trends over time and more directly related to customer behavior than the 'emp.var.rate'.**"
      ],
      "metadata": {
        "id": "2xrdZWYdBsuj"
      }
    },
    {
      "cell_type": "code",
      "source": [
        "# Excluding the 'nr.employement' column\n",
        "data = data.drop(columns=['emp.var.rate'])"
      ],
      "metadata": {
        "colab": {
          "base_uri": "https://localhost:8080/",
          "height": 304
        },
        "id": "z76qq_lgCtKV",
        "outputId": "341494f5-47c6-4025-c157-8d6e6810aed9"
      },
      "execution_count": 282,
      "outputs": [
        {
          "output_type": "error",
          "ename": "KeyError",
          "evalue": "\"['emp.var.rate'] not found in axis\"",
          "traceback": [
            "\u001b[0;31m---------------------------------------------------------------------------\u001b[0m",
            "\u001b[0;31mKeyError\u001b[0m                                  Traceback (most recent call last)",
            "\u001b[0;32m<ipython-input-282-683bcb7e935c>\u001b[0m in \u001b[0;36m<cell line: 2>\u001b[0;34m()\u001b[0m\n\u001b[1;32m      1\u001b[0m \u001b[0;31m# Excluding the 'nr.employement' column\u001b[0m\u001b[0;34m\u001b[0m\u001b[0;34m\u001b[0m\u001b[0m\n\u001b[0;32m----> 2\u001b[0;31m \u001b[0mdata\u001b[0m \u001b[0;34m=\u001b[0m \u001b[0mdata\u001b[0m\u001b[0;34m.\u001b[0m\u001b[0mdrop\u001b[0m\u001b[0;34m(\u001b[0m\u001b[0mcolumns\u001b[0m\u001b[0;34m=\u001b[0m\u001b[0;34m[\u001b[0m\u001b[0;34m'emp.var.rate'\u001b[0m\u001b[0;34m]\u001b[0m\u001b[0;34m)\u001b[0m\u001b[0;34m\u001b[0m\u001b[0;34m\u001b[0m\u001b[0m\n\u001b[0m",
            "\u001b[0;32m/usr/local/lib/python3.10/dist-packages/pandas/core/frame.py\u001b[0m in \u001b[0;36mdrop\u001b[0;34m(self, labels, axis, index, columns, level, inplace, errors)\u001b[0m\n\u001b[1;32m   5579\u001b[0m                 \u001b[0mweight\u001b[0m  \u001b[0;36m1.0\u001b[0m     \u001b[0;36m0.8\u001b[0m\u001b[0;34m\u001b[0m\u001b[0;34m\u001b[0m\u001b[0m\n\u001b[1;32m   5580\u001b[0m         \"\"\"\n\u001b[0;32m-> 5581\u001b[0;31m         return super().drop(\n\u001b[0m\u001b[1;32m   5582\u001b[0m             \u001b[0mlabels\u001b[0m\u001b[0;34m=\u001b[0m\u001b[0mlabels\u001b[0m\u001b[0;34m,\u001b[0m\u001b[0;34m\u001b[0m\u001b[0;34m\u001b[0m\u001b[0m\n\u001b[1;32m   5583\u001b[0m             \u001b[0maxis\u001b[0m\u001b[0;34m=\u001b[0m\u001b[0maxis\u001b[0m\u001b[0;34m,\u001b[0m\u001b[0;34m\u001b[0m\u001b[0;34m\u001b[0m\u001b[0m\n",
            "\u001b[0;32m/usr/local/lib/python3.10/dist-packages/pandas/core/generic.py\u001b[0m in \u001b[0;36mdrop\u001b[0;34m(self, labels, axis, index, columns, level, inplace, errors)\u001b[0m\n\u001b[1;32m   4786\u001b[0m         \u001b[0;32mfor\u001b[0m \u001b[0maxis\u001b[0m\u001b[0;34m,\u001b[0m \u001b[0mlabels\u001b[0m \u001b[0;32min\u001b[0m \u001b[0maxes\u001b[0m\u001b[0;34m.\u001b[0m\u001b[0mitems\u001b[0m\u001b[0;34m(\u001b[0m\u001b[0;34m)\u001b[0m\u001b[0;34m:\u001b[0m\u001b[0;34m\u001b[0m\u001b[0;34m\u001b[0m\u001b[0m\n\u001b[1;32m   4787\u001b[0m             \u001b[0;32mif\u001b[0m \u001b[0mlabels\u001b[0m \u001b[0;32mis\u001b[0m \u001b[0;32mnot\u001b[0m \u001b[0;32mNone\u001b[0m\u001b[0;34m:\u001b[0m\u001b[0;34m\u001b[0m\u001b[0;34m\u001b[0m\u001b[0m\n\u001b[0;32m-> 4788\u001b[0;31m                 \u001b[0mobj\u001b[0m \u001b[0;34m=\u001b[0m \u001b[0mobj\u001b[0m\u001b[0;34m.\u001b[0m\u001b[0m_drop_axis\u001b[0m\u001b[0;34m(\u001b[0m\u001b[0mlabels\u001b[0m\u001b[0;34m,\u001b[0m \u001b[0maxis\u001b[0m\u001b[0;34m,\u001b[0m \u001b[0mlevel\u001b[0m\u001b[0;34m=\u001b[0m\u001b[0mlevel\u001b[0m\u001b[0;34m,\u001b[0m \u001b[0merrors\u001b[0m\u001b[0;34m=\u001b[0m\u001b[0merrors\u001b[0m\u001b[0;34m)\u001b[0m\u001b[0;34m\u001b[0m\u001b[0;34m\u001b[0m\u001b[0m\n\u001b[0m\u001b[1;32m   4789\u001b[0m \u001b[0;34m\u001b[0m\u001b[0m\n\u001b[1;32m   4790\u001b[0m         \u001b[0;32mif\u001b[0m \u001b[0minplace\u001b[0m\u001b[0;34m:\u001b[0m\u001b[0;34m\u001b[0m\u001b[0;34m\u001b[0m\u001b[0m\n",
            "\u001b[0;32m/usr/local/lib/python3.10/dist-packages/pandas/core/generic.py\u001b[0m in \u001b[0;36m_drop_axis\u001b[0;34m(self, labels, axis, level, errors, only_slice)\u001b[0m\n\u001b[1;32m   4828\u001b[0m                 \u001b[0mnew_axis\u001b[0m \u001b[0;34m=\u001b[0m \u001b[0maxis\u001b[0m\u001b[0;34m.\u001b[0m\u001b[0mdrop\u001b[0m\u001b[0;34m(\u001b[0m\u001b[0mlabels\u001b[0m\u001b[0;34m,\u001b[0m \u001b[0mlevel\u001b[0m\u001b[0;34m=\u001b[0m\u001b[0mlevel\u001b[0m\u001b[0;34m,\u001b[0m \u001b[0merrors\u001b[0m\u001b[0;34m=\u001b[0m\u001b[0merrors\u001b[0m\u001b[0;34m)\u001b[0m\u001b[0;34m\u001b[0m\u001b[0;34m\u001b[0m\u001b[0m\n\u001b[1;32m   4829\u001b[0m             \u001b[0;32melse\u001b[0m\u001b[0;34m:\u001b[0m\u001b[0;34m\u001b[0m\u001b[0;34m\u001b[0m\u001b[0m\n\u001b[0;32m-> 4830\u001b[0;31m                 \u001b[0mnew_axis\u001b[0m \u001b[0;34m=\u001b[0m \u001b[0maxis\u001b[0m\u001b[0;34m.\u001b[0m\u001b[0mdrop\u001b[0m\u001b[0;34m(\u001b[0m\u001b[0mlabels\u001b[0m\u001b[0;34m,\u001b[0m \u001b[0merrors\u001b[0m\u001b[0;34m=\u001b[0m\u001b[0merrors\u001b[0m\u001b[0;34m)\u001b[0m\u001b[0;34m\u001b[0m\u001b[0;34m\u001b[0m\u001b[0m\n\u001b[0m\u001b[1;32m   4831\u001b[0m             \u001b[0mindexer\u001b[0m \u001b[0;34m=\u001b[0m \u001b[0maxis\u001b[0m\u001b[0;34m.\u001b[0m\u001b[0mget_indexer\u001b[0m\u001b[0;34m(\u001b[0m\u001b[0mnew_axis\u001b[0m\u001b[0;34m)\u001b[0m\u001b[0;34m\u001b[0m\u001b[0;34m\u001b[0m\u001b[0m\n\u001b[1;32m   4832\u001b[0m \u001b[0;34m\u001b[0m\u001b[0m\n",
            "\u001b[0;32m/usr/local/lib/python3.10/dist-packages/pandas/core/indexes/base.py\u001b[0m in \u001b[0;36mdrop\u001b[0;34m(self, labels, errors)\u001b[0m\n\u001b[1;32m   7068\u001b[0m         \u001b[0;32mif\u001b[0m \u001b[0mmask\u001b[0m\u001b[0;34m.\u001b[0m\u001b[0many\u001b[0m\u001b[0;34m(\u001b[0m\u001b[0;34m)\u001b[0m\u001b[0;34m:\u001b[0m\u001b[0;34m\u001b[0m\u001b[0;34m\u001b[0m\u001b[0m\n\u001b[1;32m   7069\u001b[0m             \u001b[0;32mif\u001b[0m \u001b[0merrors\u001b[0m \u001b[0;34m!=\u001b[0m \u001b[0;34m\"ignore\"\u001b[0m\u001b[0;34m:\u001b[0m\u001b[0;34m\u001b[0m\u001b[0;34m\u001b[0m\u001b[0m\n\u001b[0;32m-> 7070\u001b[0;31m                 \u001b[0;32mraise\u001b[0m \u001b[0mKeyError\u001b[0m\u001b[0;34m(\u001b[0m\u001b[0;34mf\"{labels[mask].tolist()} not found in axis\"\u001b[0m\u001b[0;34m)\u001b[0m\u001b[0;34m\u001b[0m\u001b[0;34m\u001b[0m\u001b[0m\n\u001b[0m\u001b[1;32m   7071\u001b[0m             \u001b[0mindexer\u001b[0m \u001b[0;34m=\u001b[0m \u001b[0mindexer\u001b[0m\u001b[0;34m[\u001b[0m\u001b[0;34m~\u001b[0m\u001b[0mmask\u001b[0m\u001b[0;34m]\u001b[0m\u001b[0;34m\u001b[0m\u001b[0;34m\u001b[0m\u001b[0m\n\u001b[1;32m   7072\u001b[0m         \u001b[0;32mreturn\u001b[0m \u001b[0mself\u001b[0m\u001b[0;34m.\u001b[0m\u001b[0mdelete\u001b[0m\u001b[0;34m(\u001b[0m\u001b[0mindexer\u001b[0m\u001b[0;34m)\u001b[0m\u001b[0;34m\u001b[0m\u001b[0;34m\u001b[0m\u001b[0m\n",
            "\u001b[0;31mKeyError\u001b[0m: \"['emp.var.rate'] not found in axis\""
          ]
        }
      ]
    },
    {
      "cell_type": "code",
      "source": [
        "# Step 13: Splitting features and target\n",
        "X = data.drop(columns=['y'])\n",
        "y = data['y']"
      ],
      "metadata": {
        "id": "fYn491cM65gf"
      },
      "execution_count": 283,
      "outputs": []
    },
    {
      "cell_type": "code",
      "source": [
        "# Step 14: Splitting data\n",
        "X_train, X_test, y_train, y_test = train_test_split(X, y, test_size=0.2, random_state=42)"
      ],
      "metadata": {
        "id": "aGJSLevMQqSL"
      },
      "execution_count": 284,
      "outputs": []
    },
    {
      "cell_type": "code",
      "source": [
        "# Step 15: Save processed data for model training if needed\n",
        "X_train.to_csv('/content/drive/MyDrive/banking_system/processed_X_train.csv', index=False)\n",
        "y_train.to_csv('/content/drive/MyDrive/banking_system/processed_y_train.csv', index=False)\n",
        "X_test.to_csv('/content/drive/MyDrive/banking_system/processed_X_test.csv', index=False)\n",
        "y_test.to_csv('/content/drive/MyDrive/banking_system/processed_y_test.csv', index=False)"
      ],
      "metadata": {
        "id": "rswmmxa8Tsq0"
      },
      "execution_count": 285,
      "outputs": []
    },
    {
      "cell_type": "markdown",
      "source": [
        "# **Balancing the Target Variable**"
      ],
      "metadata": {
        "id": "GQxR8QxMT5Ib"
      }
    },
    {
      "cell_type": "code",
      "source": [
        "# Analyzing the distribution of the target variable\n",
        "y_train.value_counts(normalize=True)"
      ],
      "metadata": {
        "colab": {
          "base_uri": "https://localhost:8080/",
          "height": 178
        },
        "id": "S3N3SDpdT4xh",
        "outputId": "6bf00fb4-43bd-4fcf-d86c-45fb1ba3159f"
      },
      "execution_count": 286,
      "outputs": [
        {
          "output_type": "execute_result",
          "data": {
            "text/plain": [
              "y\n",
              "0    0.888646\n",
              "1    0.111354\n",
              "Name: proportion, dtype: float64"
            ],
            "text/html": [
              "<div>\n",
              "<style scoped>\n",
              "    .dataframe tbody tr th:only-of-type {\n",
              "        vertical-align: middle;\n",
              "    }\n",
              "\n",
              "    .dataframe tbody tr th {\n",
              "        vertical-align: top;\n",
              "    }\n",
              "\n",
              "    .dataframe thead th {\n",
              "        text-align: right;\n",
              "    }\n",
              "</style>\n",
              "<table border=\"1\" class=\"dataframe\">\n",
              "  <thead>\n",
              "    <tr style=\"text-align: right;\">\n",
              "      <th></th>\n",
              "      <th>proportion</th>\n",
              "    </tr>\n",
              "    <tr>\n",
              "      <th>y</th>\n",
              "      <th></th>\n",
              "    </tr>\n",
              "  </thead>\n",
              "  <tbody>\n",
              "    <tr>\n",
              "      <th>0</th>\n",
              "      <td>0.888646</td>\n",
              "    </tr>\n",
              "    <tr>\n",
              "      <th>1</th>\n",
              "      <td>0.111354</td>\n",
              "    </tr>\n",
              "  </tbody>\n",
              "</table>\n",
              "</div><br><label><b>dtype:</b> float64</label>"
            ]
          },
          "metadata": {},
          "execution_count": 286
        }
      ]
    },
    {
      "cell_type": "code",
      "source": [
        "# Visualizing the distribution of the target variable\n",
        "sns.countplot(data=data, x='y')\n",
        "plt.title('Target Variable Distribution')\n",
        "plt.show()"
      ],
      "metadata": {
        "colab": {
          "base_uri": "https://localhost:8080/",
          "height": 472
        },
        "id": "b19z57RuUIaA",
        "outputId": "bb5810da-af4a-4ada-820e-8f3d3a545462"
      },
      "execution_count": 287,
      "outputs": [
        {
          "output_type": "display_data",
          "data": {
            "text/plain": [
              "<Figure size 640x480 with 1 Axes>"
            ],
            "image/png": "[encoded data removed]"
          },
          "metadata": {}
        }
      ]
    },
    {
      "cell_type": "code",
      "source": [
        "# Display dataset information\n",
        "print(\"Dataset Information:\")\n",
        "print(data.info())"
      ],
      "metadata": {
        "colab": {
          "base_uri": "https://localhost:8080/"
        },
        "id": "8g9oP-XZv1m7",
        "outputId": "cdca383a-b289-459a-c11d-d662df7b3e48"
      },
      "execution_count": 288,
      "outputs": [
        {
          "output_type": "stream",
          "name": "stdout",
          "text": [
            "Dataset Information:\n",
            "<class 'pandas.core.frame.DataFrame'>\n",
            "Index: 41176 entries, 0 to 41187\n",
            "Data columns (total 40 columns):\n",
            " #   Column                Non-Null Count  Dtype  \n",
            "---  ------                --------------  -----  \n",
            " 0   age                   41176 non-null  float64\n",
            " 1   education             41176 non-null  int64  \n",
            " 2   housing               41176 non-null  int64  \n",
            " 3   loan                  41176 non-null  int64  \n",
            " 4   campaign              41176 non-null  float64\n",
            " 5   cons.price.idx        41176 non-null  float64\n",
            " 6   cons.conf.idx         41176 non-null  float64\n",
            " 7   euribor3m             41176 non-null  float64\n",
            " 8   nr.employed           41176 non-null  float64\n",
            " 9   y                     41176 non-null  int64  \n",
            " 10  job_blue-collar       41176 non-null  bool   \n",
            " 11  job_entrepreneur      41176 non-null  bool   \n",
            " 12  job_housemaid         41176 non-null  bool   \n",
            " 13  job_management        41176 non-null  bool   \n",
            " 14  job_retired           41176 non-null  bool   \n",
            " 15  job_self-employed     41176 non-null  bool   \n",
            " 16  job_services          41176 non-null  bool   \n",
            " 17  job_student           41176 non-null  bool   \n",
            " 18  job_technician        41176 non-null  bool   \n",
            " 19  job_unemployed        41176 non-null  bool   \n",
            " 20  job_unknown           41176 non-null  bool   \n",
            " 21  marital_married       41176 non-null  bool   \n",
            " 22  marital_single        41176 non-null  bool   \n",
            " 23  contact_telephone     41176 non-null  bool   \n",
            " 24  poutcome_nonexistent  41176 non-null  bool   \n",
            " 25  poutcome_success      41176 non-null  bool   \n",
            " 26  month_aug             41176 non-null  bool   \n",
            " 27  month_dec             41176 non-null  bool   \n",
            " 28  month_jul             41176 non-null  bool   \n",
            " 29  month_jun             41176 non-null  bool   \n",
            " 30  month_mar             41176 non-null  bool   \n",
            " 31  month_may             41176 non-null  bool   \n",
            " 32  month_nov             41176 non-null  bool   \n",
            " 33  month_oct             41176 non-null  bool   \n",
            " 34  month_sep             41176 non-null  bool   \n",
            " 35  day_of_week_mon       41176 non-null  bool   \n",
            " 36  day_of_week_thu       41176 non-null  bool   \n",
            " 37  day_of_week_tue       41176 non-null  bool   \n",
            " 38  day_of_week_wed       41176 non-null  bool   \n",
            " 39  contact_score         41176 non-null  float64\n",
            "dtypes: bool(29), float64(7), int64(4)\n",
            "memory usage: 4.9 MB\n",
            "None\n"
          ]
        }
      ]
    },
    {
      "cell_type": "code",
      "source": [
        "# Import necessary modules\n",
        "from sklearn.utils.validation import validate_data\n",
        "from imblearn.over_sampling import SMOTE\n",
        "import warnings\n",
        "\n",
        "# Suppress FutureWarnings\n",
        "warnings.filterwarnings(\"ignore\", category=FutureWarning)\n",
        "\n",
        "# Handling imbalanced dataset\n",
        "smote = SMOTE(sampling_strategy='auto', random_state=42)\n",
        "X_train_resampled, y_train_resampled = smote.fit_resample(X_train, y_train)"
      ],
      "metadata": {
        "id": "xtdQvC3eUN3U"
      },
      "execution_count": 289,
      "outputs": []
    },
    {
      "cell_type": "code",
      "source": [
        "# Plot class distribution after SMOTE\n",
        "sns.countplot(x=y_train_resampled, palette=\"viridis\")\n",
        "plt.title(\"Class Distribution After SMOTE\")\n",
        "plt.xlabel(\"Class\")\n",
        "plt.ylabel(\"Count\")\n",
        "plt.show()"
      ],
      "metadata": {
        "colab": {
          "base_uri": "https://localhost:8080/",
          "height": 472
        },
        "id": "BjsDW36KUQXJ",
        "outputId": "54068995-d5a7-4f59-931d-599492d5ec57"
      },
      "execution_count": 290,
      "outputs": [
        {
          "output_type": "display_data",
          "data": {
            "text/plain": [
              "<Figure size 640x480 with 1 Axes>"
            ],
            "image/png": "[encoded data removed]"
          },
          "metadata": {}
        }
      ]
    },
    {
      "cell_type": "code",
      "source": [
        "# Displaying the dataset shape after applying the SMOTE\n",
        "print(f\"Shape of X_train_resampled: {X_train_resampled.shape}\")\n",
        "print(f\"Shape of y_train_resampled: {y_train_resampled.shape}\")"
      ],
      "metadata": {
        "colab": {
          "base_uri": "https://localhost:8080/"
        },
        "id": "SDybwT_2xyP4",
        "outputId": "1dbc9bf1-b3f0-402d-ceb7-90ba79b5b7bb"
      },
      "execution_count": 291,
      "outputs": [
        {
          "output_type": "stream",
          "name": "stdout",
          "text": [
            "Shape of X_train_resampled: (58544, 39)\n",
            "Shape of y_train_resampled: (58544,)\n"
          ]
        }
      ]
    },
    {
      "cell_type": "markdown",
      "source": [
        "# **Building the Models**"
      ],
      "metadata": {
        "id": "WsIwo4l7UXG8"
      }
    },
    {
      "cell_type": "code",
      "source": [
        "# Standardize the features\n",
        "scaler = StandardScaler()\n",
        "X_train_resampled_scaled = scaler.fit_transform(X_train_resampled)\n",
        "X_test_scaled = scaler.transform(X_test)"
      ],
      "metadata": {
        "id": "2vE5CH4pUQNq"
      },
      "execution_count": 292,
      "outputs": []
    },
    {
      "cell_type": "markdown",
      "source": [
        "## **Model based on Random Forest**"
      ],
      "metadata": {
        "id": "DOnlmAdAUiMH"
      }
    },
    {
      "cell_type": "code",
      "source": [
        "# 1. Random Forest Classifier\n",
        "rf_model = RandomForestClassifier(n_estimators=200, random_state=42, class_weight='balanced')\n",
        "rf_model.fit(X_train_resampled, y_train_resampled)\n",
        "\n",
        "from sklearn.neural_network import MLPClassifier\n",
        "\n",
        "# Compute class weights\n",
        "class_weights = {0: len(y_train) / (2 * (y_train == 0).sum()),\n",
        "                 1: len(y_train) / (2 * (y_train == 1).sum())}"
      ],
      "metadata": {
        "id": "hLGXeaBPlU-J"
      },
      "execution_count": 293,
      "outputs": []
    },
    {
      "cell_type": "code",
      "source": [
        "# Random Forest Predictions\n",
        "y_pred_rf = rf_model.predict(X_test)\n",
        "y_pred_proba_rf = rf_model.predict_proba(X_test)[:, 1]"
      ],
      "metadata": {
        "id": "5A1ol5lAlWeH"
      },
      "execution_count": 294,
      "outputs": []
    },
    {
      "cell_type": "code",
      "source": [
        "# Accuracy and Classification Report for Random Forest\n",
        "print(\"Random Forest Model Evaluation:\")\n",
        "print(\"Accuracy:\", accuracy_score(y_test, y_pred_rf))\n",
        "print(\"\\nClassification Report:\\n\", classification_report(y_test, y_pred_rf))"
      ],
      "metadata": {
        "colab": {
          "base_uri": "https://localhost:8080/"
        },
        "id": "tKELKHoPla2e",
        "outputId": "bdd7c8d4-c8b2-453f-f9b9-60f702f39536"
      },
      "execution_count": 295,
      "outputs": [
        {
          "output_type": "stream",
          "name": "stdout",
          "text": [
            "Random Forest Model Evaluation:\n",
            "Accuracy: 0.8711753278290433\n",
            "\n",
            "Classification Report:\n",
            "               precision    recall  f1-score   support\n",
            "\n",
            "           0       0.92      0.94      0.93      7265\n",
            "           1       0.45      0.38      0.41       971\n",
            "\n",
            "    accuracy                           0.87      8236\n",
            "   macro avg       0.68      0.66      0.67      8236\n",
            "weighted avg       0.86      0.87      0.87      8236\n",
            "\n"
          ]
        }
      ]
    },
    {
      "cell_type": "markdown",
      "source": [
        "## **Model based on Neural Networks**"
      ],
      "metadata": {
        "id": "igrsx4_Jlc9B"
      }
    },
    {
      "cell_type": "code",
      "source": [
        "# Initialize Neural Network with adjusted class weights\n",
        "nn_model = MLPClassifier(hidden_layer_sizes=(100,), max_iter=500, random_state=42, solver='adam')\n",
        "\n",
        "# Manually apply class weights\n",
        "from sklearn.utils.class_weight import compute_class_weight\n",
        "\n",
        "# Compute class weights based on the target variable\n",
        "nn_model.fit(X_train_resampled, y_train_resampled)"
      ],
      "metadata": {
        "colab": {
          "base_uri": "https://localhost:8080/",
          "height": 80
        },
        "id": "obJWL8YuljYp",
        "outputId": "df956a13-5a6f-4786-c5ca-040371f4d4d6"
      },
      "execution_count": 296,
      "outputs": [
        {
          "output_type": "execute_result",
          "data": {
            "text/plain": [
              "MLPClassifier(max_iter=500, random_state=42)"
            ],
            "text/html": [
              "<style>#sk-container-id-3 {\n",
              "  /* Definition of color scheme common for light and dark mode */\n",
              "  --sklearn-color-text: #000;\n",
              "  --sklearn-color-text-muted: #666;\n",
              "  --sklearn-color-line: gray;\n",
              "  /* Definition of color scheme for unfitted estimators */\n",
              "  --sklearn-color-unfitted-level-0: #fff5e6;\n",
              "  --sklearn-color-unfitted-level-1: #f6e4d2;\n",
              "  --sklearn-color-unfitted-level-2: #ffe0b3;\n",
              "  --sklearn-color-unfitted-level-3: chocolate;\n",
              "  /* Definition of color scheme for fitted estimators */\n",
              "  --sklearn-color-fitted-level-0: #f0f8ff;\n",
              "  --sklearn-color-fitted-level-1: #d4ebff;\n",
              "  --sklearn-color-fitted-level-2: #b3dbfd;\n",
              "  --sklearn-color-fitted-level-3: cornflowerblue;\n",
              "\n",
              "  /* Specific color for light theme */\n",
              "  --sklearn-color-text-on-default-background: var(--sg-text-color, var(--theme-code-foreground, var(--jp-content-font-color1, black)));\n",
              "  --sklearn-color-background: var(--sg-background-color, var(--theme-background, var(--jp-layout-color0, white)));\n",
              "  --sklearn-color-border-box: var(--sg-text-color, var(--theme-code-foreground, var(--jp-content-font-color1, black)));\n",
              "  --sklearn-color-icon: #696969;\n",
              "\n",
              "  @media (prefers-color-scheme: dark) {\n",
              "    /* Redefinition of color scheme for dark theme */\n",
              "    --sklearn-color-text-on-default-background: var(--sg-text-color, var(--theme-code-foreground, var(--jp-content-font-color1, white)));\n",
              "    --sklearn-color-background: var(--sg-background-color, var(--theme-background, var(--jp-layout-color0, #111)));\n",
              "    --sklearn-color-border-box: var(--sg-text-color, var(--theme-code-foreground, var(--jp-content-font-color1, white)));\n",
              "    --sklearn-color-icon: #878787;\n",
              "  }\n",
              "}\n",
              "\n",
              "#sk-container-id-3 {\n",
              "  color: var(--sklearn-color-text);\n",
              "}\n",
              "\n",
              "#sk-container-id-3 pre {\n",
              "  padding: 0;\n",
              "}\n",
              "\n",
              "#sk-container-id-3 input.sk-hidden--visually {\n",
              "  border: 0;\n",
              "  clip: rect(1px 1px 1px 1px);\n",
              "  clip: rect(1px, 1px, 1px, 1px);\n",
              "  height: 1px;\n",
              "  margin: -1px;\n",
              "  overflow: hidden;\n",
              "  padding: 0;\n",
              "  position: absolute;\n",
              "  width: 1px;\n",
              "}\n",
              "\n",
              "#sk-container-id-3 div.sk-dashed-wrapped {\n",
              "  border: 1px dashed var(--sklearn-color-line);\n",
              "  margin: 0 0.4em 0.5em 0.4em;\n",
              "  box-sizing: border-box;\n",
              "  padding-bottom: 0.4em;\n",
              "  background-color: var(--sklearn-color-background);\n",
              "}\n",
              "\n",
              "#sk-container-id-3 div.sk-container {\n",
              "  /* jupyter's `normalize.less` sets `[hidden] { display: none; }`\n",
              "     but bootstrap.min.css set `[hidden] { display: none !important; }`\n",
              "     so we also need the `!important` here to be able to override the\n",
              "     default hidden behavior on the sphinx rendered scikit-learn.org.\n",
              "     See: https://github.com/scikit-learn/scikit-learn/issues/21755 */\n",
              "  display: inline-block !important;\n",
              "  position: relative;\n",
              "}\n",
              "\n",
              "#sk-container-id-3 div.sk-text-repr-fallback {\n",
              "  display: none;\n",
              "}\n",
              "\n",
              "div.sk-parallel-item,\n",
              "div.sk-serial,\n",
              "div.sk-item {\n",
              "  /* draw centered vertical line to link estimators */\n",
              "  background-image: linear-gradient(var(--sklearn-color-text-on-default-background), var(--sklearn-color-text-on-default-background));\n",
              "  background-size: 2px 100%;\n",
              "  background-repeat: no-repeat;\n",
              "  background-position: center center;\n",
              "}\n",
              "\n",
              "/* Parallel-specific style estimator block */\n",
              "\n",
              "#sk-container-id-3 div.sk-parallel-item::after {\n",
              "  content: \"\";\n",
              "  width: 100%;\n",
              "  border-bottom: 2px solid var(--sklearn-color-text-on-default-background);\n",
              "  flex-grow: 1;\n",
              "}\n",
              "\n",
              "#sk-container-id-3 div.sk-parallel {\n",
              "  display: flex;\n",
              "  align-items: stretch;\n",
              "  justify-content: center;\n",
              "  background-color: var(--sklearn-color-background);\n",
              "  position: relative;\n",
              "}\n",
              "\n",
              "#sk-container-id-3 div.sk-parallel-item {\n",
              "  display: flex;\n",
              "  flex-direction: column;\n",
              "}\n",
              "\n",
              "#sk-container-id-3 div.sk-parallel-item:first-child::after {\n",
              "  align-self: flex-end;\n",
              "  width: 50%;\n",
              "}\n",
              "\n",
              "#sk-container-id-3 div.sk-parallel-item:last-child::after {\n",
              "  align-self: flex-start;\n",
              "  width: 50%;\n",
              "}\n",
              "\n",
              "#sk-container-id-3 div.sk-parallel-item:only-child::after {\n",
              "  width: 0;\n",
              "}\n",
              "\n",
              "/* Serial-specific style estimator block */\n",
              "\n",
              "#sk-container-id-3 div.sk-serial {\n",
              "  display: flex;\n",
              "  flex-direction: column;\n",
              "  align-items: center;\n",
              "  background-color: var(--sklearn-color-background);\n",
              "  padding-right: 1em;\n",
              "  padding-left: 1em;\n",
              "}\n",
              "\n",
              "\n",
              "/* Toggleable style: style used for estimator/Pipeline/ColumnTransformer box that is\n",
              "clickable and can be expanded/collapsed.\n",
              "- Pipeline and ColumnTransformer use this feature and define the default style\n",
              "- Estimators will overwrite some part of the style using the `sk-estimator` class\n",
              "*/\n",
              "\n",
              "/* Pipeline and ColumnTransformer style (default) */\n",
              "\n",
              "#sk-container-id-3 div.sk-toggleable {\n",
              "  /* Default theme specific background. It is overwritten whether we have a\n",
              "  specific estimator or a Pipeline/ColumnTransformer */\n",
              "  background-color: var(--sklearn-color-background);\n",
              "}\n",
              "\n",
              "/* Toggleable label */\n",
              "#sk-container-id-3 label.sk-toggleable__label {\n",
              "  cursor: pointer;\n",
              "  display: flex;\n",
              "  width: 100%;\n",
              "  margin-bottom: 0;\n",
              "  padding: 0.5em;\n",
              "  box-sizing: border-box;\n",
              "  text-align: center;\n",
              "  align-items: start;\n",
              "  justify-content: space-between;\n",
              "  gap: 0.5em;\n",
              "}\n",
              "\n",
              "#sk-container-id-3 label.sk-toggleable__label .caption {\n",
              "  font-size: 0.6rem;\n",
              "  font-weight: lighter;\n",
              "  color: var(--sklearn-color-text-muted);\n",
              "}\n",
              "\n",
              "#sk-container-id-3 label.sk-toggleable__label-arrow:before {\n",
              "  /* Arrow on the left of the label */\n",
              "  content: \"▸\";\n",
              "  float: left;\n",
              "  margin-right: 0.25em;\n",
              "  color: var(--sklearn-color-icon);\n",
              "}\n",
              "\n",
              "#sk-container-id-3 label.sk-toggleable__label-arrow:hover:before {\n",
              "  color: var(--sklearn-color-text);\n",
              "}\n",
              "\n",
              "/* Toggleable content - dropdown */\n",
              "\n",
              "#sk-container-id-3 div.sk-toggleable__content {\n",
              "  max-height: 0;\n",
              "  max-width: 0;\n",
              "  overflow: hidden;\n",
              "  text-align: left;\n",
              "  /* unfitted */\n",
              "  background-color: var(--sklearn-color-unfitted-level-0);\n",
              "}\n",
              "\n",
              "#sk-container-id-3 div.sk-toggleable__content.fitted {\n",
              "  /* fitted */\n",
              "  background-color: var(--sklearn-color-fitted-level-0);\n",
              "}\n",
              "\n",
              "#sk-container-id-3 div.sk-toggleable__content pre {\n",
              "  margin: 0.2em;\n",
              "  border-radius: 0.25em;\n",
              "  color: var(--sklearn-color-text);\n",
              "  /* unfitted */\n",
              "  background-color: var(--sklearn-color-unfitted-level-0);\n",
              "}\n",
              "\n",
              "#sk-container-id-3 div.sk-toggleable__content.fitted pre {\n",
              "  /* unfitted */\n",
              "  background-color: var(--sklearn-color-fitted-level-0);\n",
              "}\n",
              "\n",
              "#sk-container-id-3 input.sk-toggleable__control:checked~div.sk-toggleable__content {\n",
              "  /* Expand drop-down */\n",
              "  max-height: 200px;\n",
              "  max-width: 100%;\n",
              "  overflow: auto;\n",
              "}\n",
              "\n",
              "#sk-container-id-3 input.sk-toggleable__control:checked~label.sk-toggleable__label-arrow:before {\n",
              "  content: \"▾\";\n",
              "}\n",
              "\n",
              "/* Pipeline/ColumnTransformer-specific style */\n",
              "\n",
              "#sk-container-id-3 div.sk-label input.sk-toggleable__control:checked~label.sk-toggleable__label {\n",
              "  color: var(--sklearn-color-text);\n",
              "  background-color: var(--sklearn-color-unfitted-level-2);\n",
              "}\n",
              "\n",
              "#sk-container-id-3 div.sk-label.fitted input.sk-toggleable__control:checked~label.sk-toggleable__label {\n",
              "  background-color: var(--sklearn-color-fitted-level-2);\n",
              "}\n",
              "\n",
              "/* Estimator-specific style */\n",
              "\n",
              "/* Colorize estimator box */\n",
              "#sk-container-id-3 div.sk-estimator input.sk-toggleable__control:checked~label.sk-toggleable__label {\n",
              "  /* unfitted */\n",
              "  background-color: var(--sklearn-color-unfitted-level-2);\n",
              "}\n",
              "\n",
              "#sk-container-id-3 div.sk-estimator.fitted input.sk-toggleable__control:checked~label.sk-toggleable__label {\n",
              "  /* fitted */\n",
              "  background-color: var(--sklearn-color-fitted-level-2);\n",
              "}\n",
              "\n",
              "#sk-container-id-3 div.sk-label label.sk-toggleable__label,\n",
              "#sk-container-id-3 div.sk-label label {\n",
              "  /* The background is the default theme color */\n",
              "  color: var(--sklearn-color-text-on-default-background);\n",
              "}\n",
              "\n",
              "/* On hover, darken the color of the background */\n",
              "#sk-container-id-3 div.sk-label:hover label.sk-toggleable__label {\n",
              "  color: var(--sklearn-color-text);\n",
              "  background-color: var(--sklearn-color-unfitted-level-2);\n",
              "}\n",
              "\n",
              "/* Label box, darken color on hover, fitted */\n",
              "#sk-container-id-3 div.sk-label.fitted:hover label.sk-toggleable__label.fitted {\n",
              "  color: var(--sklearn-color-text);\n",
              "  background-color: var(--sklearn-color-fitted-level-2);\n",
              "}\n",
              "\n",
              "/* Estimator label */\n",
              "\n",
              "#sk-container-id-3 div.sk-label label {\n",
              "  font-family: monospace;\n",
              "  font-weight: bold;\n",
              "  display: inline-block;\n",
              "  line-height: 1.2em;\n",
              "}\n",
              "\n",
              "#sk-container-id-3 div.sk-label-container {\n",
              "  text-align: center;\n",
              "}\n",
              "\n",
              "/* Estimator-specific */\n",
              "#sk-container-id-3 div.sk-estimator {\n",
              "  font-family: monospace;\n",
              "  border: 1px dotted var(--sklearn-color-border-box);\n",
              "  border-radius: 0.25em;\n",
              "  box-sizing: border-box;\n",
              "  margin-bottom: 0.5em;\n",
              "  /* unfitted */\n",
              "  background-color: var(--sklearn-color-unfitted-level-0);\n",
              "}\n",
              "\n",
              "#sk-container-id-3 div.sk-estimator.fitted {\n",
              "  /* fitted */\n",
              "  background-color: var(--sklearn-color-fitted-level-0);\n",
              "}\n",
              "\n",
              "/* on hover */\n",
              "#sk-container-id-3 div.sk-estimator:hover {\n",
              "  /* unfitted */\n",
              "  background-color: var(--sklearn-color-unfitted-level-2);\n",
              "}\n",
              "\n",
              "#sk-container-id-3 div.sk-estimator.fitted:hover {\n",
              "  /* fitted */\n",
              "  background-color: var(--sklearn-color-fitted-level-2);\n",
              "}\n",
              "\n",
              "/* Specification for estimator info (e.g. \"i\" and \"?\") */\n",
              "\n",
              "/* Common style for \"i\" and \"?\" */\n",
              "\n",
              ".sk-estimator-doc-link,\n",
              "a:link.sk-estimator-doc-link,\n",
              "a:visited.sk-estimator-doc-link {\n",
              "  float: right;\n",
              "  font-size: smaller;\n",
              "  line-height: 1em;\n",
              "  font-family: monospace;\n",
              "  background-color: var(--sklearn-color-background);\n",
              "  border-radius: 1em;\n",
              "  height: 1em;\n",
              "  width: 1em;\n",
              "  text-decoration: none !important;\n",
              "  margin-left: 0.5em;\n",
              "  text-align: center;\n",
              "  /* unfitted */\n",
              "  border: var(--sklearn-color-unfitted-level-1) 1pt solid;\n",
              "  color: var(--sklearn-color-unfitted-level-1);\n",
              "}\n",
              "\n",
              ".sk-estimator-doc-link.fitted,\n",
              "a:link.sk-estimator-doc-link.fitted,\n",
              "a:visited.sk-estimator-doc-link.fitted {\n",
              "  /* fitted */\n",
              "  border: var(--sklearn-color-fitted-level-1) 1pt solid;\n",
              "  color: var(--sklearn-color-fitted-level-1);\n",
              "}\n",
              "\n",
              "/* On hover */\n",
              "div.sk-estimator:hover .sk-estimator-doc-link:hover,\n",
              ".sk-estimator-doc-link:hover,\n",
              "div.sk-label-container:hover .sk-estimator-doc-link:hover,\n",
              ".sk-estimator-doc-link:hover {\n",
              "  /* unfitted */\n",
              "  background-color: var(--sklearn-color-unfitted-level-3);\n",
              "  color: var(--sklearn-color-background);\n",
              "  text-decoration: none;\n",
              "}\n",
              "\n",
              "div.sk-estimator.fitted:hover .sk-estimator-doc-link.fitted:hover,\n",
              ".sk-estimator-doc-link.fitted:hover,\n",
              "div.sk-label-container:hover .sk-estimator-doc-link.fitted:hover,\n",
              ".sk-estimator-doc-link.fitted:hover {\n",
              "  /* fitted */\n",
              "  background-color: var(--sklearn-color-fitted-level-3);\n",
              "  color: var(--sklearn-color-background);\n",
              "  text-decoration: none;\n",
              "}\n",
              "\n",
              "/* Span, style for the box shown on hovering the info icon */\n",
              ".sk-estimator-doc-link span {\n",
              "  display: none;\n",
              "  z-index: 9999;\n",
              "  position: relative;\n",
              "  font-weight: normal;\n",
              "  right: .2ex;\n",
              "  padding: .5ex;\n",
              "  margin: .5ex;\n",
              "  width: min-content;\n",
              "  min-width: 20ex;\n",
              "  max-width: 50ex;\n",
              "  color: var(--sklearn-color-text);\n",
              "  box-shadow: 2pt 2pt 4pt #999;\n",
              "  /* unfitted */\n",
              "  background: var(--sklearn-color-unfitted-level-0);\n",
              "  border: .5pt solid var(--sklearn-color-unfitted-level-3);\n",
              "}\n",
              "\n",
              ".sk-estimator-doc-link.fitted span {\n",
              "  /* fitted */\n",
              "  background: var(--sklearn-color-fitted-level-0);\n",
              "  border: var(--sklearn-color-fitted-level-3);\n",
              "}\n",
              "\n",
              ".sk-estimator-doc-link:hover span {\n",
              "  display: block;\n",
              "}\n",
              "\n",
              "/* \"?\"-specific style due to the `<a>` HTML tag */\n",
              "\n",
              "#sk-container-id-3 a.estimator_doc_link {\n",
              "  float: right;\n",
              "  font-size: 1rem;\n",
              "  line-height: 1em;\n",
              "  font-family: monospace;\n",
              "  background-color: var(--sklearn-color-background);\n",
              "  border-radius: 1rem;\n",
              "  height: 1rem;\n",
              "  width: 1rem;\n",
              "  text-decoration: none;\n",
              "  /* unfitted */\n",
              "  color: var(--sklearn-color-unfitted-level-1);\n",
              "  border: var(--sklearn-color-unfitted-level-1) 1pt solid;\n",
              "}\n",
              "\n",
              "#sk-container-id-3 a.estimator_doc_link.fitted {\n",
              "  /* fitted */\n",
              "  border: var(--sklearn-color-fitted-level-1) 1pt solid;\n",
              "  color: var(--sklearn-color-fitted-level-1);\n",
              "}\n",
              "\n",
              "/* On hover */\n",
              "#sk-container-id-3 a.estimator_doc_link:hover {\n",
              "  /* unfitted */\n",
              "  background-color: var(--sklearn-color-unfitted-level-3);\n",
              "  color: var(--sklearn-color-background);\n",
              "  text-decoration: none;\n",
              "}\n",
              "\n",
              "#sk-container-id-3 a.estimator_doc_link.fitted:hover {\n",
              "  /* fitted */\n",
              "  background-color: var(--sklearn-color-fitted-level-3);\n",
              "}\n",
              "</style><div id=\"sk-container-id-3\" class=\"sk-top-container\"><div class=\"sk-text-repr-fallback\"><pre>MLPClassifier(max_iter=500, random_state=42)</pre><b>In a Jupyter environment, please rerun this cell to show the HTML representation or trust the notebook. <br />On GitHub, the HTML representation is unable to render, please try loading this page with nbviewer.org.</b></div><div class=\"sk-container\" hidden><div class=\"sk-item\"><div class=\"sk-estimator fitted sk-toggleable\"><input class=\"sk-toggleable__control sk-hidden--visually\" id=\"sk-estimator-id-3\" type=\"checkbox\" checked><label for=\"sk-estimator-id-3\" class=\"sk-toggleable__label fitted sk-toggleable__label-arrow\"><div><div>MLPClassifier</div></div><div><a class=\"sk-estimator-doc-link fitted\" rel=\"noreferrer\" target=\"_blank\" href=\"https://scikit-learn.org/1.6/modules/generated/sklearn.neural_network.MLPClassifier.html\">?<span>Documentation for MLPClassifier</span></a><span class=\"sk-estimator-doc-link fitted\">i<span>Fitted</span></span></div></label><div class=\"sk-toggleable__content fitted\"><pre>MLPClassifier(max_iter=500, random_state=42)</pre></div> </div></div></div></div>"
            ]
          },
          "metadata": {},
          "execution_count": 296
        }
      ]
    },
    {
      "cell_type": "code",
      "source": [
        "# Neural Network Predictions\n",
        "y_pred_nn = nn_model.predict(X_test)\n",
        "y_pred_proba_nn = nn_model.predict_proba(X_test)[:, 1]"
      ],
      "metadata": {
        "id": "IQTFzOI9lkxK"
      },
      "execution_count": 297,
      "outputs": []
    },
    {
      "cell_type": "code",
      "source": [
        "# Accuracy and Classification Report for Neural Network\n",
        "print(\"Neural Network Model Evaluation:\")\n",
        "print(\"Accuracy:\", accuracy_score(y_test, y_pred_nn))\n",
        "print(\"\\nClassification Report:\\n\", classification_report(y_test, y_pred_nn))"
      ],
      "metadata": {
        "colab": {
          "base_uri": "https://localhost:8080/"
        },
        "id": "Uc8hOnz6lnaK",
        "outputId": "08dadbd5-c9be-4634-8995-c077a646d6db"
      },
      "execution_count": 298,
      "outputs": [
        {
          "output_type": "stream",
          "name": "stdout",
          "text": [
            "Neural Network Model Evaluation:\n",
            "Accuracy: 0.8200582807187955\n",
            "\n",
            "Classification Report:\n",
            "               precision    recall  f1-score   support\n",
            "\n",
            "           0       0.92      0.88      0.90      7265\n",
            "           1       0.30      0.41      0.35       971\n",
            "\n",
            "    accuracy                           0.82      8236\n",
            "   macro avg       0.61      0.64      0.62      8236\n",
            "weighted avg       0.84      0.82      0.83      8236\n",
            "\n"
          ]
        }
      ]
    },
    {
      "cell_type": "markdown",
      "source": [
        "# **ROC-AUC Score and ROC Curve**"
      ],
      "metadata": {
        "id": "Ajp-gfGMlz4n"
      }
    },
    {
      "cell_type": "code",
      "source": [
        "# ROC-AUC Scores\n",
        "roc_auc_rf = roc_auc_score(y_test, y_pred_proba_rf)\n",
        "roc_auc_nn = roc_auc_score(y_test, y_pred_proba_nn)\n",
        "\n",
        "print(f\"Random Forest ROC-AUC: {roc_auc_rf}\")\n",
        "print(f\"Neural Network ROC-AUC: {roc_auc_nn}\")"
      ],
      "metadata": {
        "colab": {
          "base_uri": "https://localhost:8080/"
        },
        "id": "fnPiko9AlsJA",
        "outputId": "be10afbd-3e86-47ef-d663-d7cecb10164c"
      },
      "execution_count": 299,
      "outputs": [
        {
          "output_type": "stream",
          "name": "stdout",
          "text": [
            "Random Forest ROC-AUC: 0.7657262257214201\n",
            "Neural Network ROC-AUC: 0.7033566689324193\n"
          ]
        }
      ]
    },
    {
      "cell_type": "code",
      "source": [
        "# Plotting ROC Curve\n",
        "fpr_rf, tpr_rf, _ = roc_curve(y_test, y_pred_proba_rf)\n",
        "fpr_nn, tpr_nn, _ = roc_curve(y_test, y_pred_proba_nn)\n",
        "\n",
        "plt.figure(figsize=(10, 6))\n",
        "plt.plot(fpr_rf, tpr_rf, label=f'Random Forest (AUC = {roc_auc_rf:.2f})')\n",
        "plt.plot(fpr_nn, tpr_nn, label=f'Neural Network (AUC = {roc_auc_nn:.2f})')\n",
        "plt.plot([0, 1], [0, 1], 'k--')\n",
        "plt.xlabel('False Positive Rate')\n",
        "plt.ylabel('True Positive Rate')\n",
        "plt.title('Receiver Operating Characteristic (ROC) Curve')\n",
        "plt.legend()\n",
        "plt.show()"
      ],
      "metadata": {
        "colab": {
          "base_uri": "https://localhost:8080/",
          "height": 564
        },
        "id": "owNLWyV1luDX",
        "outputId": "1cf27fae-877d-401a-c89e-84db562b3156"
      },
      "execution_count": 300,
      "outputs": [
        {
          "output_type": "display_data",
          "data": {
            "text/plain": [
              "<Figure size 1000x600 with 1 Axes>"
            ],
            "image/png": "[encoded data removed]"
          },
          "metadata": {}
        }
      ]
    }
  ]
}